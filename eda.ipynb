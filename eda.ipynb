{
 "cells": [
  {
   "cell_type": "code",
   "execution_count": 35,
   "id": "820e00f1",
   "metadata": {},
   "outputs": [],
   "source": [
    "import pandas as pd\n",
    "import matplotlib.pyplot as plt\n",
    "from pprint import pprint"
   ]
  },
  {
   "cell_type": "code",
   "execution_count": 2,
   "id": "733684a1",
   "metadata": {},
   "outputs": [
    {
     "data": {
      "text/plain": [
       "'3.9.1'"
      ]
     },
     "execution_count": 2,
     "metadata": {},
     "output_type": "execute_result"
    }
   ],
   "source": [
    "from platform import python_version\n",
    "python_version()"
   ]
  },
  {
   "cell_type": "markdown",
   "id": "d3741f00",
   "metadata": {},
   "source": [
    "### Aim\n",
    "\n",
    "This notebook is created to explore and understand the events and items datasets, what columns they contain and what do they tell us. "
   ]
  },
  {
   "cell_type": "code",
   "execution_count": 3,
   "id": "6909a309",
   "metadata": {},
   "outputs": [],
   "source": [
    "datapath = '../datasets/user-items-recsys/'\n",
    "category_tree = 'category_tree.csv'\n",
    "events = 'events.csv'\n",
    "item_props_1 = 'item_properties_part1.csv'\n",
    "item_props_2 = 'item_properties_part2.csv'"
   ]
  },
  {
   "cell_type": "code",
   "execution_count": 4,
   "id": "ba33b068",
   "metadata": {},
   "outputs": [
    {
     "data": {
      "text/html": [
       "<div>\n",
       "<style scoped>\n",
       "    .dataframe tbody tr th:only-of-type {\n",
       "        vertical-align: middle;\n",
       "    }\n",
       "\n",
       "    .dataframe tbody tr th {\n",
       "        vertical-align: top;\n",
       "    }\n",
       "\n",
       "    .dataframe thead th {\n",
       "        text-align: right;\n",
       "    }\n",
       "</style>\n",
       "<table border=\"1\" class=\"dataframe\">\n",
       "  <thead>\n",
       "    <tr style=\"text-align: right;\">\n",
       "      <th></th>\n",
       "      <th>timestamp</th>\n",
       "      <th>visitorid</th>\n",
       "      <th>event</th>\n",
       "      <th>itemid</th>\n",
       "      <th>transactionid</th>\n",
       "    </tr>\n",
       "  </thead>\n",
       "  <tbody>\n",
       "    <tr>\n",
       "      <th>0</th>\n",
       "      <td>1433221332117</td>\n",
       "      <td>257597</td>\n",
       "      <td>view</td>\n",
       "      <td>355908</td>\n",
       "      <td>NaN</td>\n",
       "    </tr>\n",
       "    <tr>\n",
       "      <th>1</th>\n",
       "      <td>1433224214164</td>\n",
       "      <td>992329</td>\n",
       "      <td>view</td>\n",
       "      <td>248676</td>\n",
       "      <td>NaN</td>\n",
       "    </tr>\n",
       "    <tr>\n",
       "      <th>2</th>\n",
       "      <td>1433221999827</td>\n",
       "      <td>111016</td>\n",
       "      <td>view</td>\n",
       "      <td>318965</td>\n",
       "      <td>NaN</td>\n",
       "    </tr>\n",
       "    <tr>\n",
       "      <th>3</th>\n",
       "      <td>1433221955914</td>\n",
       "      <td>483717</td>\n",
       "      <td>view</td>\n",
       "      <td>253185</td>\n",
       "      <td>NaN</td>\n",
       "    </tr>\n",
       "    <tr>\n",
       "      <th>4</th>\n",
       "      <td>1433221337106</td>\n",
       "      <td>951259</td>\n",
       "      <td>view</td>\n",
       "      <td>367447</td>\n",
       "      <td>NaN</td>\n",
       "    </tr>\n",
       "  </tbody>\n",
       "</table>\n",
       "</div>"
      ],
      "text/plain": [
       "       timestamp  visitorid event  itemid  transactionid\n",
       "0  1433221332117     257597  view  355908            NaN\n",
       "1  1433224214164     992329  view  248676            NaN\n",
       "2  1433221999827     111016  view  318965            NaN\n",
       "3  1433221955914     483717  view  253185            NaN\n",
       "4  1433221337106     951259  view  367447            NaN"
      ]
     },
     "execution_count": 4,
     "metadata": {},
     "output_type": "execute_result"
    }
   ],
   "source": [
    "df_events = pd.read_csv(datapath+events)\n",
    "df_events.head()"
   ]
  },
  {
   "cell_type": "code",
   "execution_count": 5,
   "id": "2f696263",
   "metadata": {},
   "outputs": [
    {
     "data": {
      "text/html": [
       "<div>\n",
       "<style scoped>\n",
       "    .dataframe tbody tr th:only-of-type {\n",
       "        vertical-align: middle;\n",
       "    }\n",
       "\n",
       "    .dataframe tbody tr th {\n",
       "        vertical-align: top;\n",
       "    }\n",
       "\n",
       "    .dataframe thead th {\n",
       "        text-align: right;\n",
       "    }\n",
       "</style>\n",
       "<table border=\"1\" class=\"dataframe\">\n",
       "  <thead>\n",
       "    <tr style=\"text-align: right;\">\n",
       "      <th></th>\n",
       "      <th>categoryid</th>\n",
       "      <th>parentid</th>\n",
       "    </tr>\n",
       "  </thead>\n",
       "  <tbody>\n",
       "    <tr>\n",
       "      <th>0</th>\n",
       "      <td>1016</td>\n",
       "      <td>213.0</td>\n",
       "    </tr>\n",
       "    <tr>\n",
       "      <th>1</th>\n",
       "      <td>809</td>\n",
       "      <td>169.0</td>\n",
       "    </tr>\n",
       "    <tr>\n",
       "      <th>2</th>\n",
       "      <td>570</td>\n",
       "      <td>9.0</td>\n",
       "    </tr>\n",
       "    <tr>\n",
       "      <th>3</th>\n",
       "      <td>1691</td>\n",
       "      <td>885.0</td>\n",
       "    </tr>\n",
       "    <tr>\n",
       "      <th>4</th>\n",
       "      <td>536</td>\n",
       "      <td>1691.0</td>\n",
       "    </tr>\n",
       "  </tbody>\n",
       "</table>\n",
       "</div>"
      ],
      "text/plain": [
       "   categoryid  parentid\n",
       "0        1016     213.0\n",
       "1         809     169.0\n",
       "2         570       9.0\n",
       "3        1691     885.0\n",
       "4         536    1691.0"
      ]
     },
     "execution_count": 5,
     "metadata": {},
     "output_type": "execute_result"
    }
   ],
   "source": [
    "df_category_tree = pd.read_csv(datapath+category_tree)\n",
    "df_category_tree.head()"
   ]
  },
  {
   "cell_type": "code",
   "execution_count": 6,
   "id": "95fa1cbd",
   "metadata": {},
   "outputs": [
    {
     "data": {
      "text/html": [
       "<div>\n",
       "<style scoped>\n",
       "    .dataframe tbody tr th:only-of-type {\n",
       "        vertical-align: middle;\n",
       "    }\n",
       "\n",
       "    .dataframe tbody tr th {\n",
       "        vertical-align: top;\n",
       "    }\n",
       "\n",
       "    .dataframe thead th {\n",
       "        text-align: right;\n",
       "    }\n",
       "</style>\n",
       "<table border=\"1\" class=\"dataframe\">\n",
       "  <thead>\n",
       "    <tr style=\"text-align: right;\">\n",
       "      <th></th>\n",
       "      <th>timestamp</th>\n",
       "      <th>itemid</th>\n",
       "      <th>property</th>\n",
       "      <th>value</th>\n",
       "    </tr>\n",
       "  </thead>\n",
       "  <tbody>\n",
       "    <tr>\n",
       "      <th>0</th>\n",
       "      <td>1435460400000</td>\n",
       "      <td>460429</td>\n",
       "      <td>categoryid</td>\n",
       "      <td>1338</td>\n",
       "    </tr>\n",
       "    <tr>\n",
       "      <th>1</th>\n",
       "      <td>1441508400000</td>\n",
       "      <td>206783</td>\n",
       "      <td>888</td>\n",
       "      <td>1116713 960601 n277.200</td>\n",
       "    </tr>\n",
       "    <tr>\n",
       "      <th>2</th>\n",
       "      <td>1439089200000</td>\n",
       "      <td>395014</td>\n",
       "      <td>400</td>\n",
       "      <td>n552.000 639502 n720.000 424566</td>\n",
       "    </tr>\n",
       "    <tr>\n",
       "      <th>3</th>\n",
       "      <td>1431226800000</td>\n",
       "      <td>59481</td>\n",
       "      <td>790</td>\n",
       "      <td>n15360.000</td>\n",
       "    </tr>\n",
       "    <tr>\n",
       "      <th>4</th>\n",
       "      <td>1431831600000</td>\n",
       "      <td>156781</td>\n",
       "      <td>917</td>\n",
       "      <td>828513</td>\n",
       "    </tr>\n",
       "  </tbody>\n",
       "</table>\n",
       "</div>"
      ],
      "text/plain": [
       "       timestamp  itemid    property                            value\n",
       "0  1435460400000  460429  categoryid                             1338\n",
       "1  1441508400000  206783         888          1116713 960601 n277.200\n",
       "2  1439089200000  395014         400  n552.000 639502 n720.000 424566\n",
       "3  1431226800000   59481         790                       n15360.000\n",
       "4  1431831600000  156781         917                           828513"
      ]
     },
     "execution_count": 6,
     "metadata": {},
     "output_type": "execute_result"
    }
   ],
   "source": [
    "df_items1 = pd.read_csv(datapath+item_props_1)\n",
    "df_items1.head()"
   ]
  },
  {
   "cell_type": "code",
   "execution_count": 38,
   "id": "ebdbb69f",
   "metadata": {},
   "outputs": [
    {
     "data": {
      "text/html": [
       "<div>\n",
       "<style scoped>\n",
       "    .dataframe tbody tr th:only-of-type {\n",
       "        vertical-align: middle;\n",
       "    }\n",
       "\n",
       "    .dataframe tbody tr th {\n",
       "        vertical-align: top;\n",
       "    }\n",
       "\n",
       "    .dataframe thead th {\n",
       "        text-align: right;\n",
       "    }\n",
       "</style>\n",
       "<table border=\"1\" class=\"dataframe\">\n",
       "  <thead>\n",
       "    <tr style=\"text-align: right;\">\n",
       "      <th></th>\n",
       "      <th>timestamp</th>\n",
       "      <th>itemid</th>\n",
       "      <th>property</th>\n",
       "      <th>value</th>\n",
       "    </tr>\n",
       "  </thead>\n",
       "  <tbody>\n",
       "    <tr>\n",
       "      <th>0</th>\n",
       "      <td>1433041200000</td>\n",
       "      <td>183478</td>\n",
       "      <td>561</td>\n",
       "      <td>769062</td>\n",
       "    </tr>\n",
       "    <tr>\n",
       "      <th>1</th>\n",
       "      <td>1439694000000</td>\n",
       "      <td>132256</td>\n",
       "      <td>976</td>\n",
       "      <td>n26.400 1135780</td>\n",
       "    </tr>\n",
       "    <tr>\n",
       "      <th>2</th>\n",
       "      <td>1435460400000</td>\n",
       "      <td>420307</td>\n",
       "      <td>921</td>\n",
       "      <td>1149317 1257525</td>\n",
       "    </tr>\n",
       "    <tr>\n",
       "      <th>3</th>\n",
       "      <td>1431831600000</td>\n",
       "      <td>403324</td>\n",
       "      <td>917</td>\n",
       "      <td>1204143</td>\n",
       "    </tr>\n",
       "    <tr>\n",
       "      <th>4</th>\n",
       "      <td>1435460400000</td>\n",
       "      <td>230701</td>\n",
       "      <td>521</td>\n",
       "      <td>769062</td>\n",
       "    </tr>\n",
       "  </tbody>\n",
       "</table>\n",
       "</div>"
      ],
      "text/plain": [
       "       timestamp  itemid property            value\n",
       "0  1433041200000  183478      561           769062\n",
       "1  1439694000000  132256      976  n26.400 1135780\n",
       "2  1435460400000  420307      921  1149317 1257525\n",
       "3  1431831600000  403324      917          1204143\n",
       "4  1435460400000  230701      521           769062"
      ]
     },
     "execution_count": 38,
     "metadata": {},
     "output_type": "execute_result"
    }
   ],
   "source": [
    "df_items2 = pd.read_csv(datapath+item_props_2)\n",
    "df_items2.head()"
   ]
  },
  {
   "cell_type": "markdown",
   "id": "cdb06aa3",
   "metadata": {},
   "source": [
    "### Dataset properties\n",
    "\n",
    "*Events*\n",
    "- Event type - View, AddToCart, Transaction\n",
    "- Events table tells which event happened at what item on which item by which user\n",
    "\n",
    "*Items*\n",
    "- Tells about item category and value. An item can have its value changed over time. Hence, the table has timestamp column\n",
    "\n",
    "*Category Tree*\n",
    "- Denotes the heirarchy of category"
   ]
  },
  {
   "cell_type": "markdown",
   "id": "0b9574a5",
   "metadata": {},
   "source": [
    "### EDA - Events"
   ]
  },
  {
   "cell_type": "code",
   "execution_count": 7,
   "id": "4088d3b9",
   "metadata": {},
   "outputs": [
    {
     "data": {
      "text/plain": [
       "(2756101, 5)"
      ]
     },
     "execution_count": 7,
     "metadata": {},
     "output_type": "execute_result"
    }
   ],
   "source": [
    "df_events.shape"
   ]
  },
  {
   "cell_type": "code",
   "execution_count": 8,
   "id": "49a690ac",
   "metadata": {},
   "outputs": [
    {
     "data": {
      "text/plain": [
       "Index(['timestamp', 'visitorid', 'event', 'itemid', 'transactionid'], dtype='object')"
      ]
     },
     "execution_count": 8,
     "metadata": {},
     "output_type": "execute_result"
    }
   ],
   "source": [
    "df_events.columns"
   ]
  },
  {
   "cell_type": "code",
   "execution_count": 20,
   "id": "f1c2b45c",
   "metadata": {},
   "outputs": [],
   "source": [
    "## Convert timestamp to date\n",
    "df_events['date'] = pd.to_datetime(df_events['timestamp'],unit='ms')"
   ]
  },
  {
   "cell_type": "code",
   "execution_count": 21,
   "id": "3a3a9fc9",
   "metadata": {},
   "outputs": [
    {
     "name": "stdout",
     "output_type": "stream",
     "text": [
      "<class 'pandas.core.frame.DataFrame'>\n",
      "RangeIndex: 2756101 entries, 0 to 2756100\n",
      "Data columns (total 6 columns):\n",
      " #   Column         Dtype         \n",
      "---  ------         -----         \n",
      " 0   timestamp      int64         \n",
      " 1   visitorid      int64         \n",
      " 2   event          object        \n",
      " 3   itemid         int64         \n",
      " 4   transactionid  float64       \n",
      " 5   date           datetime64[ns]\n",
      "dtypes: datetime64[ns](1), float64(1), int64(3), object(1)\n",
      "memory usage: 126.2+ MB\n"
     ]
    }
   ],
   "source": [
    "df_events.info()"
   ]
  },
  {
   "cell_type": "code",
   "execution_count": 10,
   "id": "fbd654c8",
   "metadata": {},
   "outputs": [
    {
     "data": {
      "text/plain": [
       "view           2664312\n",
       "addtocart        69332\n",
       "transaction      22457\n",
       "Name: event, dtype: int64"
      ]
     },
     "execution_count": 10,
     "metadata": {},
     "output_type": "execute_result"
    }
   ],
   "source": [
    "df_events['event'].value_counts()"
   ]
  },
  {
   "cell_type": "code",
   "execution_count": 37,
   "id": "bc0d5612",
   "metadata": {},
   "outputs": [
    {
     "name": "stdout",
     "output_type": "stream",
     "text": [
      "Total number of events: 2756101\n",
      "Number of unique users doing at least 1 event: 1407580\n"
     ]
    }
   ],
   "source": [
    "print(\"Total number of events: {}\".format(df_events.shape[0]))\n",
    "print(\"Number of unique users doing at least 1 event: {}\".format(len(df_events['visitorid'].unique())))"
   ]
  },
  {
   "cell_type": "code",
   "execution_count": 22,
   "id": "abd5fa27",
   "metadata": {},
   "outputs": [
    {
     "name": "stdout",
     "output_type": "stream",
     "text": [
      "Minimum date in events table:  2015-05-03 03:00:04.384000\n",
      "Maximum date in events table:  2015-09-18 02:59:47.788000\n"
     ]
    }
   ],
   "source": [
    "# Print minimum and maximum date\n",
    "print(\"Minimum date in events table: \",df_events['date'].min())\n",
    "print(\"Maximum date in events table: \",df_events['date'].max())"
   ]
  },
  {
   "cell_type": "code",
   "execution_count": 23,
   "id": "40003bfd",
   "metadata": {},
   "outputs": [
    {
     "data": {
      "text/html": [
       "<div>\n",
       "<style scoped>\n",
       "    .dataframe tbody tr th:only-of-type {\n",
       "        vertical-align: middle;\n",
       "    }\n",
       "\n",
       "    .dataframe tbody tr th {\n",
       "        vertical-align: top;\n",
       "    }\n",
       "\n",
       "    .dataframe thead th {\n",
       "        text-align: right;\n",
       "    }\n",
       "</style>\n",
       "<table border=\"1\" class=\"dataframe\">\n",
       "  <thead>\n",
       "    <tr style=\"text-align: right;\">\n",
       "      <th></th>\n",
       "      <th>timestamp</th>\n",
       "      <th>visitorid</th>\n",
       "      <th>event</th>\n",
       "      <th>itemid</th>\n",
       "      <th>transactionid</th>\n",
       "      <th>date</th>\n",
       "    </tr>\n",
       "  </thead>\n",
       "  <tbody>\n",
       "    <tr>\n",
       "      <th>0</th>\n",
       "      <td>1433221332117</td>\n",
       "      <td>257597</td>\n",
       "      <td>view</td>\n",
       "      <td>355908</td>\n",
       "      <td>NaN</td>\n",
       "      <td>2015-06-02 05:02:12.117</td>\n",
       "    </tr>\n",
       "    <tr>\n",
       "      <th>1</th>\n",
       "      <td>1433224214164</td>\n",
       "      <td>992329</td>\n",
       "      <td>view</td>\n",
       "      <td>248676</td>\n",
       "      <td>NaN</td>\n",
       "      <td>2015-06-02 05:50:14.164</td>\n",
       "    </tr>\n",
       "    <tr>\n",
       "      <th>2</th>\n",
       "      <td>1433221999827</td>\n",
       "      <td>111016</td>\n",
       "      <td>view</td>\n",
       "      <td>318965</td>\n",
       "      <td>NaN</td>\n",
       "      <td>2015-06-02 05:13:19.827</td>\n",
       "    </tr>\n",
       "    <tr>\n",
       "      <th>3</th>\n",
       "      <td>1433221955914</td>\n",
       "      <td>483717</td>\n",
       "      <td>view</td>\n",
       "      <td>253185</td>\n",
       "      <td>NaN</td>\n",
       "      <td>2015-06-02 05:12:35.914</td>\n",
       "    </tr>\n",
       "    <tr>\n",
       "      <th>4</th>\n",
       "      <td>1433221337106</td>\n",
       "      <td>951259</td>\n",
       "      <td>view</td>\n",
       "      <td>367447</td>\n",
       "      <td>NaN</td>\n",
       "      <td>2015-06-02 05:02:17.106</td>\n",
       "    </tr>\n",
       "  </tbody>\n",
       "</table>\n",
       "</div>"
      ],
      "text/plain": [
       "       timestamp  visitorid event  itemid  transactionid  \\\n",
       "0  1433221332117     257597  view  355908            NaN   \n",
       "1  1433224214164     992329  view  248676            NaN   \n",
       "2  1433221999827     111016  view  318965            NaN   \n",
       "3  1433221955914     483717  view  253185            NaN   \n",
       "4  1433221337106     951259  view  367447            NaN   \n",
       "\n",
       "                     date  \n",
       "0 2015-06-02 05:02:12.117  \n",
       "1 2015-06-02 05:50:14.164  \n",
       "2 2015-06-02 05:13:19.827  \n",
       "3 2015-06-02 05:12:35.914  \n",
       "4 2015-06-02 05:02:17.106  "
      ]
     },
     "execution_count": 23,
     "metadata": {},
     "output_type": "execute_result"
    }
   ],
   "source": [
    "df_events.head()"
   ]
  },
  {
   "cell_type": "code",
   "execution_count": 36,
   "id": "f28454a5",
   "metadata": {},
   "outputs": [
    {
     "name": "stdout",
     "output_type": "stream",
     "text": [
      "'Each Transaction ID can have one of more items'\n"
     ]
    },
    {
     "data": {
      "text/plain": [
       "7063.0     31\n",
       "765.0      28\n",
       "8351.0     27\n",
       "2753.0     23\n",
       "6993.0     21\n",
       "           ..\n",
       "17515.0     1\n",
       "1200.0      1\n",
       "8006.0      1\n",
       "15418.0     1\n",
       "17579.0     1\n",
       "Name: transactionid, Length: 17672, dtype: int64"
      ]
     },
     "execution_count": 36,
     "metadata": {},
     "output_type": "execute_result"
    }
   ],
   "source": [
    "pprint(\"Each Transaction ID can have one of more items\")\n",
    "df_events['transactionid'].value_counts()"
   ]
  },
  {
   "cell_type": "markdown",
   "id": "83c9a960",
   "metadata": {},
   "source": [
    "### EDA - item properties"
   ]
  },
  {
   "cell_type": "code",
   "execution_count": 40,
   "id": "ce70bd7a",
   "metadata": {},
   "outputs": [
    {
     "name": "stdout",
     "output_type": "stream",
     "text": [
      "Items Data 1  (10999999, 4)\n",
      "Items Data 2  (9275903, 4)\n"
     ]
    }
   ],
   "source": [
    "print(\"Items Data 1 \",df_items1.shape)\n",
    "print(\"Items Data 2 \",df_items2.shape)"
   ]
  },
  {
   "cell_type": "code",
   "execution_count": 42,
   "id": "2439c36d",
   "metadata": {},
   "outputs": [
    {
     "data": {
      "text/plain": [
       "Index(['timestamp', 'itemid', 'property', 'value'], dtype='object')"
      ]
     },
     "execution_count": 42,
     "metadata": {},
     "output_type": "execute_result"
    }
   ],
   "source": [
    "df_items1.columns"
   ]
  },
  {
   "cell_type": "code",
   "execution_count": 66,
   "id": "504a39ed",
   "metadata": {},
   "outputs": [],
   "source": [
    "## Convert timestamp to date\n",
    "df_items1['date'] = pd.to_datetime(df_items1['timestamp'],unit='ms')"
   ]
  },
  {
   "cell_type": "code",
   "execution_count": 67,
   "id": "e3cdd203",
   "metadata": {},
   "outputs": [
    {
     "name": "stdout",
     "output_type": "stream",
     "text": [
      "<class 'pandas.core.frame.DataFrame'>\n",
      "RangeIndex: 10999999 entries, 0 to 10999998\n",
      "Data columns (total 5 columns):\n",
      " #   Column     Dtype         \n",
      "---  ------     -----         \n",
      " 0   timestamp  int64         \n",
      " 1   itemid     int64         \n",
      " 2   property   object        \n",
      " 3   value      object        \n",
      " 4   date       datetime64[ns]\n",
      "dtypes: datetime64[ns](1), int64(2), object(2)\n",
      "memory usage: 419.6+ MB\n"
     ]
    }
   ],
   "source": [
    "df_items1.info()"
   ]
  },
  {
   "cell_type": "code",
   "execution_count": 53,
   "id": "2b99719e",
   "metadata": {},
   "outputs": [
    {
     "name": "stdout",
     "output_type": "stream",
     "text": [
      "'Below table shows that each item can have multiple properties'\n",
      "('It is possible that some of the properties change over time (e.g. price). '\n",
      " 'Hence, we also have a timestamp column in the table')\n"
     ]
    },
    {
     "data": {
      "text/html": [
       "<div>\n",
       "<style scoped>\n",
       "    .dataframe tbody tr th:only-of-type {\n",
       "        vertical-align: middle;\n",
       "    }\n",
       "\n",
       "    .dataframe tbody tr th {\n",
       "        vertical-align: top;\n",
       "    }\n",
       "\n",
       "    .dataframe thead th {\n",
       "        text-align: right;\n",
       "    }\n",
       "</style>\n",
       "<table border=\"1\" class=\"dataframe\">\n",
       "  <thead>\n",
       "    <tr style=\"text-align: right;\">\n",
       "      <th></th>\n",
       "      <th>property</th>\n",
       "    </tr>\n",
       "    <tr>\n",
       "      <th>itemid</th>\n",
       "      <th></th>\n",
       "    </tr>\n",
       "  </thead>\n",
       "  <tbody>\n",
       "    <tr>\n",
       "      <th>0</th>\n",
       "      <td>31</td>\n",
       "    </tr>\n",
       "    <tr>\n",
       "      <th>1</th>\n",
       "      <td>57</td>\n",
       "    </tr>\n",
       "    <tr>\n",
       "      <th>2</th>\n",
       "      <td>9</td>\n",
       "    </tr>\n",
       "    <tr>\n",
       "      <th>3</th>\n",
       "      <td>35</td>\n",
       "    </tr>\n",
       "    <tr>\n",
       "      <th>4</th>\n",
       "      <td>16</td>\n",
       "    </tr>\n",
       "    <tr>\n",
       "      <th>...</th>\n",
       "      <td>...</td>\n",
       "    </tr>\n",
       "    <tr>\n",
       "      <th>466862</th>\n",
       "      <td>10</td>\n",
       "    </tr>\n",
       "    <tr>\n",
       "      <th>466863</th>\n",
       "      <td>17</td>\n",
       "    </tr>\n",
       "    <tr>\n",
       "      <th>466864</th>\n",
       "      <td>42</td>\n",
       "    </tr>\n",
       "    <tr>\n",
       "      <th>466865</th>\n",
       "      <td>37</td>\n",
       "    </tr>\n",
       "    <tr>\n",
       "      <th>466866</th>\n",
       "      <td>24</td>\n",
       "    </tr>\n",
       "  </tbody>\n",
       "</table>\n",
       "<p>417053 rows × 1 columns</p>\n",
       "</div>"
      ],
      "text/plain": [
       "        property\n",
       "itemid          \n",
       "0             31\n",
       "1             57\n",
       "2              9\n",
       "3             35\n",
       "4             16\n",
       "...          ...\n",
       "466862        10\n",
       "466863        17\n",
       "466864        42\n",
       "466865        37\n",
       "466866        24\n",
       "\n",
       "[417053 rows x 1 columns]"
      ]
     },
     "execution_count": 53,
     "metadata": {},
     "output_type": "execute_result"
    }
   ],
   "source": [
    "## Item properties can be - 'categoryid', 'price','name' etc. The property value is given in the values column\n",
    "pprint(\"Below table shows that each item can have multiple properties\")\n",
    "pprint(\"It is possible that some of the properties change over time (e.g. price). Hence, we also have a timestamp column in the table\")\n",
    "df_items1[['itemid','property']].groupby(by=['itemid']).count()"
   ]
  },
  {
   "cell_type": "markdown",
   "id": "8ce8d731",
   "metadata": {},
   "source": [
    "**Let us pull one of the items and analyze its properties**"
   ]
  },
  {
   "cell_type": "code",
   "execution_count": 68,
   "id": "52bef01d",
   "metadata": {},
   "outputs": [
    {
     "data": {
      "text/html": [
       "<div>\n",
       "<style scoped>\n",
       "    .dataframe tbody tr th:only-of-type {\n",
       "        vertical-align: middle;\n",
       "    }\n",
       "\n",
       "    .dataframe tbody tr th {\n",
       "        vertical-align: top;\n",
       "    }\n",
       "\n",
       "    .dataframe thead th {\n",
       "        text-align: right;\n",
       "    }\n",
       "</style>\n",
       "<table border=\"1\" class=\"dataframe\">\n",
       "  <thead>\n",
       "    <tr style=\"text-align: right;\">\n",
       "      <th></th>\n",
       "      <th>timestamp</th>\n",
       "      <th>itemid</th>\n",
       "      <th>property</th>\n",
       "      <th>value</th>\n",
       "      <th>date</th>\n",
       "    </tr>\n",
       "  </thead>\n",
       "  <tbody>\n",
       "    <tr>\n",
       "      <th>208308</th>\n",
       "      <td>1433041200000</td>\n",
       "      <td>1</td>\n",
       "      <td>296</td>\n",
       "      <td>866110</td>\n",
       "      <td>2015-05-31 03:00:00</td>\n",
       "    </tr>\n",
       "    <tr>\n",
       "      <th>435957</th>\n",
       "      <td>1439694000000</td>\n",
       "      <td>1</td>\n",
       "      <td>59</td>\n",
       "      <td>769062</td>\n",
       "      <td>2015-08-16 03:00:00</td>\n",
       "    </tr>\n",
       "    <tr>\n",
       "      <th>977089</th>\n",
       "      <td>1433041200000</td>\n",
       "      <td>1</td>\n",
       "      <td>813</td>\n",
       "      <td>814966</td>\n",
       "      <td>2015-05-31 03:00:00</td>\n",
       "    </tr>\n",
       "    <tr>\n",
       "      <th>1765852</th>\n",
       "      <td>1433646000000</td>\n",
       "      <td>1</td>\n",
       "      <td>33</td>\n",
       "      <td>1128577 1000087 421694</td>\n",
       "      <td>2015-06-07 03:00:00</td>\n",
       "    </tr>\n",
       "    <tr>\n",
       "      <th>1804484</th>\n",
       "      <td>1433646000000</td>\n",
       "      <td>1</td>\n",
       "      <td>790</td>\n",
       "      <td>n5760.000</td>\n",
       "      <td>2015-06-07 03:00:00</td>\n",
       "    </tr>\n",
       "  </tbody>\n",
       "</table>\n",
       "</div>"
      ],
      "text/plain": [
       "             timestamp  itemid property                   value  \\\n",
       "208308   1433041200000       1      296                  866110   \n",
       "435957   1439694000000       1       59                  769062   \n",
       "977089   1433041200000       1      813                  814966   \n",
       "1765852  1433646000000       1       33  1128577 1000087 421694   \n",
       "1804484  1433646000000       1      790               n5760.000   \n",
       "\n",
       "                       date  \n",
       "208308  2015-05-31 03:00:00  \n",
       "435957  2015-08-16 03:00:00  \n",
       "977089  2015-05-31 03:00:00  \n",
       "1765852 2015-06-07 03:00:00  \n",
       "1804484 2015-06-07 03:00:00  "
      ]
     },
     "execution_count": 68,
     "metadata": {},
     "output_type": "execute_result"
    }
   ],
   "source": [
    "item = df_items1.query(\"itemid==1\")\n",
    "item.head()"
   ]
  },
  {
   "cell_type": "code",
   "execution_count": 69,
   "id": "3bb7b295",
   "metadata": {},
   "outputs": [
    {
     "data": {
      "text/plain": [
       "available     18\n",
       "790           18\n",
       "888            6\n",
       "981            1\n",
       "678            1\n",
       "categoryid     1\n",
       "689            1\n",
       "776            1\n",
       "0              1\n",
       "296            1\n",
       "59             1\n",
       "284            1\n",
       "839            1\n",
       "764            1\n",
       "185            1\n",
       "33             1\n",
       "813            1\n",
       "364            1\n",
       "Name: property, dtype: int64"
      ]
     },
     "execution_count": 69,
     "metadata": {},
     "output_type": "execute_result"
    }
   ],
   "source": [
    "item['property'].value_counts()"
   ]
  },
  {
   "cell_type": "markdown",
   "id": "1e81f43d",
   "metadata": {},
   "source": [
    "The table above shows that property **790** has changed 18 times over time. "
   ]
  },
  {
   "cell_type": "code",
   "execution_count": 73,
   "id": "83ebc9fb",
   "metadata": {},
   "outputs": [
    {
     "data": {
      "text/html": [
       "<div>\n",
       "<style scoped>\n",
       "    .dataframe tbody tr th:only-of-type {\n",
       "        vertical-align: middle;\n",
       "    }\n",
       "\n",
       "    .dataframe tbody tr th {\n",
       "        vertical-align: top;\n",
       "    }\n",
       "\n",
       "    .dataframe thead th {\n",
       "        text-align: right;\n",
       "    }\n",
       "</style>\n",
       "<table border=\"1\" class=\"dataframe\">\n",
       "  <thead>\n",
       "    <tr style=\"text-align: right;\">\n",
       "      <th></th>\n",
       "      <th>timestamp</th>\n",
       "      <th>itemid</th>\n",
       "      <th>property</th>\n",
       "      <th>value</th>\n",
       "      <th>date</th>\n",
       "    </tr>\n",
       "  </thead>\n",
       "  <tbody>\n",
       "    <tr>\n",
       "      <th>6307952</th>\n",
       "      <td>1431226800000</td>\n",
       "      <td>1</td>\n",
       "      <td>available</td>\n",
       "      <td>1</td>\n",
       "      <td>2015-05-10 03:00:00</td>\n",
       "    </tr>\n",
       "    <tr>\n",
       "      <th>9687280</th>\n",
       "      <td>1431831600000</td>\n",
       "      <td>1</td>\n",
       "      <td>available</td>\n",
       "      <td>0</td>\n",
       "      <td>2015-05-17 03:00:00</td>\n",
       "    </tr>\n",
       "    <tr>\n",
       "      <th>6506736</th>\n",
       "      <td>1432436400000</td>\n",
       "      <td>1</td>\n",
       "      <td>available</td>\n",
       "      <td>0</td>\n",
       "      <td>2015-05-24 03:00:00</td>\n",
       "    </tr>\n",
       "    <tr>\n",
       "      <th>6705520</th>\n",
       "      <td>1433041200000</td>\n",
       "      <td>1</td>\n",
       "      <td>available</td>\n",
       "      <td>0</td>\n",
       "      <td>2015-05-31 03:00:00</td>\n",
       "    </tr>\n",
       "    <tr>\n",
       "      <th>6904304</th>\n",
       "      <td>1433646000000</td>\n",
       "      <td>1</td>\n",
       "      <td>available</td>\n",
       "      <td>0</td>\n",
       "      <td>2015-06-07 03:00:00</td>\n",
       "    </tr>\n",
       "    <tr>\n",
       "      <th>7103088</th>\n",
       "      <td>1434250800000</td>\n",
       "      <td>1</td>\n",
       "      <td>available</td>\n",
       "      <td>0</td>\n",
       "      <td>2015-06-14 03:00:00</td>\n",
       "    </tr>\n",
       "    <tr>\n",
       "      <th>7301872</th>\n",
       "      <td>1435460400000</td>\n",
       "      <td>1</td>\n",
       "      <td>available</td>\n",
       "      <td>0</td>\n",
       "      <td>2015-06-28 03:00:00</td>\n",
       "    </tr>\n",
       "    <tr>\n",
       "      <th>7898224</th>\n",
       "      <td>1436065200000</td>\n",
       "      <td>1</td>\n",
       "      <td>available</td>\n",
       "      <td>0</td>\n",
       "      <td>2015-07-05 03:00:00</td>\n",
       "    </tr>\n",
       "    <tr>\n",
       "      <th>8892144</th>\n",
       "      <td>1436670000000</td>\n",
       "      <td>1</td>\n",
       "      <td>available</td>\n",
       "      <td>0</td>\n",
       "      <td>2015-07-12 03:00:00</td>\n",
       "    </tr>\n",
       "    <tr>\n",
       "      <th>8295792</th>\n",
       "      <td>1437274800000</td>\n",
       "      <td>1</td>\n",
       "      <td>available</td>\n",
       "      <td>0</td>\n",
       "      <td>2015-07-19 03:00:00</td>\n",
       "    </tr>\n",
       "    <tr>\n",
       "      <th>8693360</th>\n",
       "      <td>1437879600000</td>\n",
       "      <td>1</td>\n",
       "      <td>available</td>\n",
       "      <td>0</td>\n",
       "      <td>2015-07-26 03:00:00</td>\n",
       "    </tr>\n",
       "    <tr>\n",
       "      <th>8494576</th>\n",
       "      <td>1438484400000</td>\n",
       "      <td>1</td>\n",
       "      <td>available</td>\n",
       "      <td>0</td>\n",
       "      <td>2015-08-02 03:00:00</td>\n",
       "    </tr>\n",
       "    <tr>\n",
       "      <th>9488496</th>\n",
       "      <td>1439089200000</td>\n",
       "      <td>1</td>\n",
       "      <td>available</td>\n",
       "      <td>0</td>\n",
       "      <td>2015-08-09 03:00:00</td>\n",
       "    </tr>\n",
       "    <tr>\n",
       "      <th>9289712</th>\n",
       "      <td>1439694000000</td>\n",
       "      <td>1</td>\n",
       "      <td>available</td>\n",
       "      <td>0</td>\n",
       "      <td>2015-08-16 03:00:00</td>\n",
       "    </tr>\n",
       "    <tr>\n",
       "      <th>7500656</th>\n",
       "      <td>1440298800000</td>\n",
       "      <td>1</td>\n",
       "      <td>available</td>\n",
       "      <td>0</td>\n",
       "      <td>2015-08-23 03:00:00</td>\n",
       "    </tr>\n",
       "    <tr>\n",
       "      <th>9090928</th>\n",
       "      <td>1440903600000</td>\n",
       "      <td>1</td>\n",
       "      <td>available</td>\n",
       "      <td>0</td>\n",
       "      <td>2015-08-30 03:00:00</td>\n",
       "    </tr>\n",
       "    <tr>\n",
       "      <th>8097008</th>\n",
       "      <td>1441508400000</td>\n",
       "      <td>1</td>\n",
       "      <td>available</td>\n",
       "      <td>0</td>\n",
       "      <td>2015-09-06 03:00:00</td>\n",
       "    </tr>\n",
       "    <tr>\n",
       "      <th>7699440</th>\n",
       "      <td>1442113200000</td>\n",
       "      <td>1</td>\n",
       "      <td>available</td>\n",
       "      <td>0</td>\n",
       "      <td>2015-09-13 03:00:00</td>\n",
       "    </tr>\n",
       "  </tbody>\n",
       "</table>\n",
       "</div>"
      ],
      "text/plain": [
       "             timestamp  itemid   property value                date\n",
       "6307952  1431226800000       1  available     1 2015-05-10 03:00:00\n",
       "9687280  1431831600000       1  available     0 2015-05-17 03:00:00\n",
       "6506736  1432436400000       1  available     0 2015-05-24 03:00:00\n",
       "6705520  1433041200000       1  available     0 2015-05-31 03:00:00\n",
       "6904304  1433646000000       1  available     0 2015-06-07 03:00:00\n",
       "7103088  1434250800000       1  available     0 2015-06-14 03:00:00\n",
       "7301872  1435460400000       1  available     0 2015-06-28 03:00:00\n",
       "7898224  1436065200000       1  available     0 2015-07-05 03:00:00\n",
       "8892144  1436670000000       1  available     0 2015-07-12 03:00:00\n",
       "8295792  1437274800000       1  available     0 2015-07-19 03:00:00\n",
       "8693360  1437879600000       1  available     0 2015-07-26 03:00:00\n",
       "8494576  1438484400000       1  available     0 2015-08-02 03:00:00\n",
       "9488496  1439089200000       1  available     0 2015-08-09 03:00:00\n",
       "9289712  1439694000000       1  available     0 2015-08-16 03:00:00\n",
       "7500656  1440298800000       1  available     0 2015-08-23 03:00:00\n",
       "9090928  1440903600000       1  available     0 2015-08-30 03:00:00\n",
       "8097008  1441508400000       1  available     0 2015-09-06 03:00:00\n",
       "7699440  1442113200000       1  available     0 2015-09-13 03:00:00"
      ]
     },
     "execution_count": 73,
     "metadata": {},
     "output_type": "execute_result"
    }
   ],
   "source": [
    "item.query(\"property=='available'\").sort_values(by=\"date\")"
   ]
  },
  {
   "cell_type": "markdown",
   "id": "167f8311",
   "metadata": {},
   "source": [
    "### EDA - category tree"
   ]
  },
  {
   "cell_type": "markdown",
   "id": "ef55e5a5",
   "metadata": {},
   "source": [
    "It denotes the heirarchy of categories. The categories are hashed"
   ]
  },
  {
   "cell_type": "code",
   "execution_count": 81,
   "id": "6c5a18ef",
   "metadata": {},
   "outputs": [
    {
     "name": "stdout",
     "output_type": "stream",
     "text": [
      "(1669, 2)\n"
     ]
    },
    {
     "data": {
      "text/html": [
       "<div>\n",
       "<style scoped>\n",
       "    .dataframe tbody tr th:only-of-type {\n",
       "        vertical-align: middle;\n",
       "    }\n",
       "\n",
       "    .dataframe tbody tr th {\n",
       "        vertical-align: top;\n",
       "    }\n",
       "\n",
       "    .dataframe thead th {\n",
       "        text-align: right;\n",
       "    }\n",
       "</style>\n",
       "<table border=\"1\" class=\"dataframe\">\n",
       "  <thead>\n",
       "    <tr style=\"text-align: right;\">\n",
       "      <th></th>\n",
       "      <th>categoryid</th>\n",
       "      <th>parentid</th>\n",
       "    </tr>\n",
       "  </thead>\n",
       "  <tbody>\n",
       "    <tr>\n",
       "      <th>0</th>\n",
       "      <td>1016</td>\n",
       "      <td>213.0</td>\n",
       "    </tr>\n",
       "    <tr>\n",
       "      <th>1</th>\n",
       "      <td>809</td>\n",
       "      <td>169.0</td>\n",
       "    </tr>\n",
       "    <tr>\n",
       "      <th>2</th>\n",
       "      <td>570</td>\n",
       "      <td>9.0</td>\n",
       "    </tr>\n",
       "    <tr>\n",
       "      <th>3</th>\n",
       "      <td>1691</td>\n",
       "      <td>885.0</td>\n",
       "    </tr>\n",
       "    <tr>\n",
       "      <th>4</th>\n",
       "      <td>536</td>\n",
       "      <td>1691.0</td>\n",
       "    </tr>\n",
       "  </tbody>\n",
       "</table>\n",
       "</div>"
      ],
      "text/plain": [
       "   categoryid  parentid\n",
       "0        1016     213.0\n",
       "1         809     169.0\n",
       "2         570       9.0\n",
       "3        1691     885.0\n",
       "4         536    1691.0"
      ]
     },
     "execution_count": 81,
     "metadata": {},
     "output_type": "execute_result"
    }
   ],
   "source": [
    "pprint(df_category_tree.shape)\n",
    "df_category_tree.head()"
   ]
  },
  {
   "cell_type": "markdown",
   "id": "e7f7482b",
   "metadata": {},
   "source": [
    "CategoryID **1016** is child of category **213**"
   ]
  },
  {
   "cell_type": "code",
   "execution_count": 78,
   "id": "4765fe44",
   "metadata": {},
   "outputs": [
    {
     "data": {
      "text/html": [
       "<div>\n",
       "<style scoped>\n",
       "    .dataframe tbody tr th:only-of-type {\n",
       "        vertical-align: middle;\n",
       "    }\n",
       "\n",
       "    .dataframe tbody tr th {\n",
       "        vertical-align: top;\n",
       "    }\n",
       "\n",
       "    .dataframe thead th {\n",
       "        text-align: right;\n",
       "    }\n",
       "</style>\n",
       "<table border=\"1\" class=\"dataframe\">\n",
       "  <thead>\n",
       "    <tr style=\"text-align: right;\">\n",
       "      <th></th>\n",
       "      <th>categoryid</th>\n",
       "      <th>parentid</th>\n",
       "    </tr>\n",
       "  </thead>\n",
       "  <tbody>\n",
       "    <tr>\n",
       "      <th>270</th>\n",
       "      <td>293</td>\n",
       "      <td>1532.0</td>\n",
       "    </tr>\n",
       "    <tr>\n",
       "      <th>273</th>\n",
       "      <td>986</td>\n",
       "      <td>1532.0</td>\n",
       "    </tr>\n",
       "    <tr>\n",
       "      <th>1066</th>\n",
       "      <td>107</td>\n",
       "      <td>1532.0</td>\n",
       "    </tr>\n",
       "    <tr>\n",
       "      <th>1539</th>\n",
       "      <td>500</td>\n",
       "      <td>1532.0</td>\n",
       "    </tr>\n",
       "    <tr>\n",
       "      <th>1603</th>\n",
       "      <td>1299</td>\n",
       "      <td>1532.0</td>\n",
       "    </tr>\n",
       "    <tr>\n",
       "      <th>1647</th>\n",
       "      <td>113</td>\n",
       "      <td>1532.0</td>\n",
       "    </tr>\n",
       "  </tbody>\n",
       "</table>\n",
       "</div>"
      ],
      "text/plain": [
       "      categoryid  parentid\n",
       "270          293    1532.0\n",
       "273          986    1532.0\n",
       "1066         107    1532.0\n",
       "1539         500    1532.0\n",
       "1603        1299    1532.0\n",
       "1647         113    1532.0"
      ]
     },
     "execution_count": 78,
     "metadata": {},
     "output_type": "execute_result"
    }
   ],
   "source": [
    "df_category_tree.query(\"parentid==1532\")"
   ]
  },
  {
   "cell_type": "code",
   "execution_count": 79,
   "id": "5fff5604",
   "metadata": {},
   "outputs": [
    {
     "data": {
      "text/html": [
       "<div>\n",
       "<style scoped>\n",
       "    .dataframe tbody tr th:only-of-type {\n",
       "        vertical-align: middle;\n",
       "    }\n",
       "\n",
       "    .dataframe tbody tr th {\n",
       "        vertical-align: top;\n",
       "    }\n",
       "\n",
       "    .dataframe thead th {\n",
       "        text-align: right;\n",
       "    }\n",
       "</style>\n",
       "<table border=\"1\" class=\"dataframe\">\n",
       "  <thead>\n",
       "    <tr style=\"text-align: right;\">\n",
       "      <th></th>\n",
       "      <th>categoryid</th>\n",
       "      <th>parentid</th>\n",
       "    </tr>\n",
       "  </thead>\n",
       "  <tbody>\n",
       "    <tr>\n",
       "      <th>0</th>\n",
       "      <td>1016</td>\n",
       "      <td>213.0</td>\n",
       "    </tr>\n",
       "    <tr>\n",
       "      <th>492</th>\n",
       "      <td>772</td>\n",
       "      <td>213.0</td>\n",
       "    </tr>\n",
       "    <tr>\n",
       "      <th>493</th>\n",
       "      <td>692</td>\n",
       "      <td>213.0</td>\n",
       "    </tr>\n",
       "    <tr>\n",
       "      <th>503</th>\n",
       "      <td>797</td>\n",
       "      <td>213.0</td>\n",
       "    </tr>\n",
       "    <tr>\n",
       "      <th>1088</th>\n",
       "      <td>1506</td>\n",
       "      <td>213.0</td>\n",
       "    </tr>\n",
       "    <tr>\n",
       "      <th>1089</th>\n",
       "      <td>1455</td>\n",
       "      <td>213.0</td>\n",
       "    </tr>\n",
       "  </tbody>\n",
       "</table>\n",
       "</div>"
      ],
      "text/plain": [
       "      categoryid  parentid\n",
       "0           1016     213.0\n",
       "492          772     213.0\n",
       "493          692     213.0\n",
       "503          797     213.0\n",
       "1088        1506     213.0\n",
       "1089        1455     213.0"
      ]
     },
     "execution_count": 79,
     "metadata": {},
     "output_type": "execute_result"
    }
   ],
   "source": [
    "df_category_tree.query(\"parentid==213\")"
   ]
  },
  {
   "cell_type": "code",
   "execution_count": 87,
   "id": "61cee4ac",
   "metadata": {},
   "outputs": [
    {
     "name": "stdout",
     "output_type": "stream",
     "text": [
      "Maximum size of a category group = 1\n"
     ]
    }
   ],
   "source": [
    "## Can one category have multiple parents??\n",
    "maxSize = df_category_tree.groupby(by=\"categoryid\").size().max()\n",
    "print(\"Maximum size of a category group =\",maxSize)"
   ]
  },
  {
   "cell_type": "markdown",
   "id": "34fda46a",
   "metadata": {},
   "source": [
    "Since maximum size of group is 1, each category has at most 1 parent"
   ]
  },
  {
   "cell_type": "code",
   "execution_count": 93,
   "id": "e310c46f",
   "metadata": {},
   "outputs": [
    {
     "name": "stdout",
     "output_type": "stream",
     "text": [
      "There are total 25 root nodes\n"
     ]
    },
    {
     "data": {
      "text/html": [
       "<div>\n",
       "<style scoped>\n",
       "    .dataframe tbody tr th:only-of-type {\n",
       "        vertical-align: middle;\n",
       "    }\n",
       "\n",
       "    .dataframe tbody tr th {\n",
       "        vertical-align: top;\n",
       "    }\n",
       "\n",
       "    .dataframe thead th {\n",
       "        text-align: right;\n",
       "    }\n",
       "</style>\n",
       "<table border=\"1\" class=\"dataframe\">\n",
       "  <thead>\n",
       "    <tr style=\"text-align: right;\">\n",
       "      <th></th>\n",
       "      <th>categoryid</th>\n",
       "      <th>parentid</th>\n",
       "    </tr>\n",
       "  </thead>\n",
       "  <tbody>\n",
       "    <tr>\n",
       "      <th>5</th>\n",
       "      <td>231</td>\n",
       "      <td>NaN</td>\n",
       "    </tr>\n",
       "    <tr>\n",
       "      <th>589</th>\n",
       "      <td>791</td>\n",
       "      <td>NaN</td>\n",
       "    </tr>\n",
       "    <tr>\n",
       "      <th>861</th>\n",
       "      <td>1490</td>\n",
       "      <td>NaN</td>\n",
       "    </tr>\n",
       "    <tr>\n",
       "      <th>939</th>\n",
       "      <td>431</td>\n",
       "      <td>NaN</td>\n",
       "    </tr>\n",
       "    <tr>\n",
       "      <th>1111</th>\n",
       "      <td>755</td>\n",
       "      <td>NaN</td>\n",
       "    </tr>\n",
       "  </tbody>\n",
       "</table>\n",
       "</div>"
      ],
      "text/plain": [
       "      categoryid  parentid\n",
       "5            231       NaN\n",
       "589          791       NaN\n",
       "861         1490       NaN\n",
       "939          431       NaN\n",
       "1111         755       NaN"
      ]
     },
     "execution_count": 93,
     "metadata": {},
     "output_type": "execute_result"
    }
   ],
   "source": [
    "## How many categories does not have any parent (Root nodes)\n",
    "df_root_nodes = df_category_tree[df_category_tree.parentid.isnull()]\n",
    "print(\"There are total {} root nodes\".format(df_root_nodes.shape[0]))\n",
    "df_root_nodes.head()"
   ]
  },
  {
   "cell_type": "markdown",
   "id": "e48530f8",
   "metadata": {},
   "source": [
    "### Events - A little more"
   ]
  },
  {
   "cell_type": "code",
   "execution_count": 111,
   "id": "751b9036",
   "metadata": {},
   "outputs": [
    {
     "name": "stdout",
     "output_type": "stream",
     "text": [
      "Total number of events: 2756101\n",
      "Total number of transactions: 22457\n",
      "Total number of addToCart: 69332\n"
     ]
    }
   ],
   "source": [
    "print(\"Total number of events:\",df_events.shape[0])\n",
    "print(\"Total number of transactions:\",df_events.query(\"event=='transaction'\").shape[0])\n",
    "print(\"Total number of addToCart:\",df_events.query(\"event=='addtocart'\").shape[0])"
   ]
  },
  {
   "cell_type": "code",
   "execution_count": 105,
   "id": "6a82e556",
   "metadata": {},
   "outputs": [
    {
     "name": "stdout",
     "output_type": "stream",
     "text": [
      "Number of users who have purchased atleast once:  11719\n"
     ]
    }
   ],
   "source": [
    "## Get the users who have purchased at least one item\n",
    "users_purchased = set(df_events.query(\"event=='transaction'\").visitorid.unique())\n",
    "print(\"Number of users who have purchased atleast once: \",len(users_purchased))"
   ]
  },
  {
   "cell_type": "code",
   "execution_count": 106,
   "id": "8d7371a7",
   "metadata": {},
   "outputs": [
    {
     "name": "stdout",
     "output_type": "stream",
     "text": [
      "Users who added to cart but never purchased:  27146\n"
     ]
    }
   ],
   "source": [
    "users_addtocart = set(df_events.query(\"event=='addtocart'\").visitorid.unique())-users_purchased\n",
    "print(\"Users who added to cart but never purchased: \",len(users_addtocart))"
   ]
  },
  {
   "cell_type": "code",
   "execution_count": 109,
   "id": "fef71b8b",
   "metadata": {},
   "outputs": [
    {
     "name": "stdout",
     "output_type": "stream",
     "text": [
      "Users who only viewed items: 1368715\n"
     ]
    }
   ],
   "source": [
    "users_viewonly = set(df_events.visitorid.unique()) - (users_addtocart.union(users_purchased))\n",
    "print(\"Users who only viewed items:\",len(users_viewonly))"
   ]
  },
  {
   "cell_type": "markdown",
   "id": "8b3505e5",
   "metadata": {},
   "source": [
    "### Questions?\n",
    "\n",
    "1. *Can we check for similar users? In other words, can we create user embeddings?*\n",
    "\n",
    "2. *Can we create item embedding?*\n",
    "\n",
    "3. *Can we create an item-user embedding space?*\n",
    "\n",
    "**Let us explore these questions in a separate notebook**"
   ]
  },
  {
   "cell_type": "code",
   "execution_count": null,
   "id": "0ef244f3",
   "metadata": {},
   "outputs": [],
   "source": []
  }
 ],
 "metadata": {
  "kernelspec": {
   "display_name": "Python 3 (ipykernel)",
   "language": "python",
   "name": "python3"
  },
  "language_info": {
   "codemirror_mode": {
    "name": "ipython",
    "version": 3
   },
   "file_extension": ".py",
   "mimetype": "text/x-python",
   "name": "python",
   "nbconvert_exporter": "python",
   "pygments_lexer": "ipython3",
   "version": "3.9.1"
  }
 },
 "nbformat": 4,
 "nbformat_minor": 5
}
