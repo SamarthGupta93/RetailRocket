{
 "cells": [
  {
   "cell_type": "markdown",
   "id": "1dc586e1",
   "metadata": {},
   "source": [
    "### Aim\n",
    "\n",
    "Create a user session from user history\n",
    "\n",
    "**Assumptions** - Let one session be defined as one day of user events"
   ]
  },
  {
   "cell_type": "code",
   "execution_count": 1,
   "id": "3f53e7ca",
   "metadata": {},
   "outputs": [],
   "source": [
    "import pandas as pd"
   ]
  },
  {
   "cell_type": "code",
   "execution_count": 2,
   "id": "2201dbfc",
   "metadata": {},
   "outputs": [],
   "source": [
    "datapath = '../../datasets/user-items-recsys/'\n",
    "events_file = 'events.csv'\n",
    "category_tree = 'category_tree.csv'\n",
    "item_props_1 = 'item_properties_part1.csv'\n",
    "item_props_2 = 'item_properties_part2.csv'"
   ]
  },
  {
   "cell_type": "code",
   "execution_count": 3,
   "id": "2ac23f00",
   "metadata": {},
   "outputs": [
    {
     "data": {
      "text/plain": [
       "(2756101, 5)"
      ]
     },
     "execution_count": 3,
     "metadata": {},
     "output_type": "execute_result"
    }
   ],
   "source": [
    "df_events = pd.read_csv(datapath+events_file)\n",
    "df_events.shape"
   ]
  },
  {
   "cell_type": "code",
   "execution_count": 4,
   "id": "a42c1894",
   "metadata": {},
   "outputs": [
    {
     "data": {
      "text/html": [
       "<div>\n",
       "<style scoped>\n",
       "    .dataframe tbody tr th:only-of-type {\n",
       "        vertical-align: middle;\n",
       "    }\n",
       "\n",
       "    .dataframe tbody tr th {\n",
       "        vertical-align: top;\n",
       "    }\n",
       "\n",
       "    .dataframe thead th {\n",
       "        text-align: right;\n",
       "    }\n",
       "</style>\n",
       "<table border=\"1\" class=\"dataframe\">\n",
       "  <thead>\n",
       "    <tr style=\"text-align: right;\">\n",
       "      <th></th>\n",
       "      <th>timestamp</th>\n",
       "      <th>visitorid</th>\n",
       "      <th>event</th>\n",
       "      <th>itemid</th>\n",
       "      <th>transactionid</th>\n",
       "    </tr>\n",
       "  </thead>\n",
       "  <tbody>\n",
       "    <tr>\n",
       "      <th>0</th>\n",
       "      <td>1433221332117</td>\n",
       "      <td>257597</td>\n",
       "      <td>view</td>\n",
       "      <td>355908</td>\n",
       "      <td>NaN</td>\n",
       "    </tr>\n",
       "    <tr>\n",
       "      <th>1</th>\n",
       "      <td>1433224214164</td>\n",
       "      <td>992329</td>\n",
       "      <td>view</td>\n",
       "      <td>248676</td>\n",
       "      <td>NaN</td>\n",
       "    </tr>\n",
       "    <tr>\n",
       "      <th>2</th>\n",
       "      <td>1433221999827</td>\n",
       "      <td>111016</td>\n",
       "      <td>view</td>\n",
       "      <td>318965</td>\n",
       "      <td>NaN</td>\n",
       "    </tr>\n",
       "    <tr>\n",
       "      <th>3</th>\n",
       "      <td>1433221955914</td>\n",
       "      <td>483717</td>\n",
       "      <td>view</td>\n",
       "      <td>253185</td>\n",
       "      <td>NaN</td>\n",
       "    </tr>\n",
       "    <tr>\n",
       "      <th>4</th>\n",
       "      <td>1433221337106</td>\n",
       "      <td>951259</td>\n",
       "      <td>view</td>\n",
       "      <td>367447</td>\n",
       "      <td>NaN</td>\n",
       "    </tr>\n",
       "  </tbody>\n",
       "</table>\n",
       "</div>"
      ],
      "text/plain": [
       "       timestamp  visitorid event  itemid  transactionid\n",
       "0  1433221332117     257597  view  355908            NaN\n",
       "1  1433224214164     992329  view  248676            NaN\n",
       "2  1433221999827     111016  view  318965            NaN\n",
       "3  1433221955914     483717  view  253185            NaN\n",
       "4  1433221337106     951259  view  367447            NaN"
      ]
     },
     "execution_count": 4,
     "metadata": {},
     "output_type": "execute_result"
    }
   ],
   "source": [
    "df_events.head()"
   ]
  },
  {
   "cell_type": "code",
   "execution_count": 5,
   "id": "994199ad",
   "metadata": {},
   "outputs": [],
   "source": [
    "## Convert timestamp to date\n",
    "df_events['datetime'] = pd.to_datetime(df_events['timestamp'],unit='ms')\n",
    "df_events['date'] = pd.to_datetime(df_events['timestamp'],unit='ms').dt.date"
   ]
  },
  {
   "cell_type": "markdown",
   "id": "9da71d2a",
   "metadata": {},
   "source": [
    "### User Story\n",
    "\n",
    "Let us try to create a user story based on history"
   ]
  },
  {
   "cell_type": "code",
   "execution_count": 35,
   "id": "598bdfe9",
   "metadata": {},
   "outputs": [],
   "source": [
    "user_id = 992329"
   ]
  },
  {
   "cell_type": "code",
   "execution_count": 36,
   "id": "02c79404",
   "metadata": {},
   "outputs": [],
   "source": [
    "df_user = df_events.query('visitorid=='+str(user_id))"
   ]
  },
  {
   "cell_type": "code",
   "execution_count": 37,
   "id": "fb8ae002",
   "metadata": {},
   "outputs": [
    {
     "name": "stdout",
     "output_type": "stream",
     "text": [
      "(30, 7)\n"
     ]
    },
    {
     "data": {
      "text/html": [
       "<div>\n",
       "<style scoped>\n",
       "    .dataframe tbody tr th:only-of-type {\n",
       "        vertical-align: middle;\n",
       "    }\n",
       "\n",
       "    .dataframe tbody tr th {\n",
       "        vertical-align: top;\n",
       "    }\n",
       "\n",
       "    .dataframe thead th {\n",
       "        text-align: right;\n",
       "    }\n",
       "</style>\n",
       "<table border=\"1\" class=\"dataframe\">\n",
       "  <thead>\n",
       "    <tr style=\"text-align: right;\">\n",
       "      <th></th>\n",
       "      <th>timestamp</th>\n",
       "      <th>visitorid</th>\n",
       "      <th>event</th>\n",
       "      <th>itemid</th>\n",
       "      <th>transactionid</th>\n",
       "      <th>datetime</th>\n",
       "      <th>date</th>\n",
       "    </tr>\n",
       "  </thead>\n",
       "  <tbody>\n",
       "    <tr>\n",
       "      <th>1</th>\n",
       "      <td>1433224214164</td>\n",
       "      <td>992329</td>\n",
       "      <td>view</td>\n",
       "      <td>248676</td>\n",
       "      <td>NaN</td>\n",
       "      <td>2015-06-02 05:50:14.164</td>\n",
       "      <td>2015-06-02</td>\n",
       "    </tr>\n",
       "    <tr>\n",
       "      <th>20559</th>\n",
       "      <td>1433224672007</td>\n",
       "      <td>992329</td>\n",
       "      <td>view</td>\n",
       "      <td>193150</td>\n",
       "      <td>NaN</td>\n",
       "      <td>2015-06-02 05:57:52.007</td>\n",
       "      <td>2015-06-02</td>\n",
       "    </tr>\n",
       "    <tr>\n",
       "      <th>44215</th>\n",
       "      <td>1433225555976</td>\n",
       "      <td>992329</td>\n",
       "      <td>view</td>\n",
       "      <td>246453</td>\n",
       "      <td>NaN</td>\n",
       "      <td>2015-06-02 06:12:35.976</td>\n",
       "      <td>2015-06-02</td>\n",
       "    </tr>\n",
       "    <tr>\n",
       "      <th>50030</th>\n",
       "      <td>1433395158782</td>\n",
       "      <td>992329</td>\n",
       "      <td>view</td>\n",
       "      <td>8775</td>\n",
       "      <td>NaN</td>\n",
       "      <td>2015-06-04 05:19:18.782</td>\n",
       "      <td>2015-06-04</td>\n",
       "    </tr>\n",
       "    <tr>\n",
       "      <th>64989</th>\n",
       "      <td>1433395205712</td>\n",
       "      <td>992329</td>\n",
       "      <td>view</td>\n",
       "      <td>8775</td>\n",
       "      <td>NaN</td>\n",
       "      <td>2015-06-04 05:20:05.712</td>\n",
       "      <td>2015-06-04</td>\n",
       "    </tr>\n",
       "  </tbody>\n",
       "</table>\n",
       "</div>"
      ],
      "text/plain": [
       "           timestamp  visitorid event  itemid  transactionid  \\\n",
       "1      1433224214164     992329  view  248676            NaN   \n",
       "20559  1433224672007     992329  view  193150            NaN   \n",
       "44215  1433225555976     992329  view  246453            NaN   \n",
       "50030  1433395158782     992329  view    8775            NaN   \n",
       "64989  1433395205712     992329  view    8775            NaN   \n",
       "\n",
       "                     datetime        date  \n",
       "1     2015-06-02 05:50:14.164  2015-06-02  \n",
       "20559 2015-06-02 05:57:52.007  2015-06-02  \n",
       "44215 2015-06-02 06:12:35.976  2015-06-02  \n",
       "50030 2015-06-04 05:19:18.782  2015-06-04  \n",
       "64989 2015-06-04 05:20:05.712  2015-06-04  "
      ]
     },
     "execution_count": 37,
     "metadata": {},
     "output_type": "execute_result"
    }
   ],
   "source": [
    "print(df_user.shape)\n",
    "df_user.head()"
   ]
  },
  {
   "cell_type": "code",
   "execution_count": 9,
   "id": "e88e131b",
   "metadata": {},
   "outputs": [],
   "source": [
    "item1 = 248676\n",
    "item2 = 193150\n",
    "item3 = 246453\n",
    "item4 = 8775"
   ]
  },
  {
   "cell_type": "markdown",
   "id": "6b317c32",
   "metadata": {},
   "source": [
    "The above user has 5 view events in a span of 3 days. Let us explore the itemid and see if he was searching for similar items"
   ]
  },
  {
   "cell_type": "code",
   "execution_count": 10,
   "id": "47965332",
   "metadata": {},
   "outputs": [],
   "source": [
    "# Load item properties\n",
    "df_items1 = pd.read_csv(datapath+item_props_1)"
   ]
  },
  {
   "cell_type": "code",
   "execution_count": 11,
   "id": "df7be352",
   "metadata": {},
   "outputs": [
    {
     "data": {
      "text/html": [
       "<div>\n",
       "<style scoped>\n",
       "    .dataframe tbody tr th:only-of-type {\n",
       "        vertical-align: middle;\n",
       "    }\n",
       "\n",
       "    .dataframe tbody tr th {\n",
       "        vertical-align: top;\n",
       "    }\n",
       "\n",
       "    .dataframe thead th {\n",
       "        text-align: right;\n",
       "    }\n",
       "</style>\n",
       "<table border=\"1\" class=\"dataframe\">\n",
       "  <thead>\n",
       "    <tr style=\"text-align: right;\">\n",
       "      <th></th>\n",
       "      <th>timestamp</th>\n",
       "      <th>itemid</th>\n",
       "      <th>property</th>\n",
       "      <th>value</th>\n",
       "      <th>datetime</th>\n",
       "      <th>date</th>\n",
       "    </tr>\n",
       "  </thead>\n",
       "  <tbody>\n",
       "    <tr>\n",
       "      <th>0</th>\n",
       "      <td>1435460400000</td>\n",
       "      <td>460429</td>\n",
       "      <td>categoryid</td>\n",
       "      <td>1338</td>\n",
       "      <td>2015-06-28 03:00:00</td>\n",
       "      <td>2015-06-28</td>\n",
       "    </tr>\n",
       "    <tr>\n",
       "      <th>1</th>\n",
       "      <td>1441508400000</td>\n",
       "      <td>206783</td>\n",
       "      <td>888</td>\n",
       "      <td>1116713 960601 n277.200</td>\n",
       "      <td>2015-09-06 03:00:00</td>\n",
       "      <td>2015-09-06</td>\n",
       "    </tr>\n",
       "    <tr>\n",
       "      <th>2</th>\n",
       "      <td>1439089200000</td>\n",
       "      <td>395014</td>\n",
       "      <td>400</td>\n",
       "      <td>n552.000 639502 n720.000 424566</td>\n",
       "      <td>2015-08-09 03:00:00</td>\n",
       "      <td>2015-08-09</td>\n",
       "    </tr>\n",
       "    <tr>\n",
       "      <th>3</th>\n",
       "      <td>1431226800000</td>\n",
       "      <td>59481</td>\n",
       "      <td>790</td>\n",
       "      <td>n15360.000</td>\n",
       "      <td>2015-05-10 03:00:00</td>\n",
       "      <td>2015-05-10</td>\n",
       "    </tr>\n",
       "    <tr>\n",
       "      <th>4</th>\n",
       "      <td>1431831600000</td>\n",
       "      <td>156781</td>\n",
       "      <td>917</td>\n",
       "      <td>828513</td>\n",
       "      <td>2015-05-17 03:00:00</td>\n",
       "      <td>2015-05-17</td>\n",
       "    </tr>\n",
       "  </tbody>\n",
       "</table>\n",
       "</div>"
      ],
      "text/plain": [
       "       timestamp  itemid    property                            value  \\\n",
       "0  1435460400000  460429  categoryid                             1338   \n",
       "1  1441508400000  206783         888          1116713 960601 n277.200   \n",
       "2  1439089200000  395014         400  n552.000 639502 n720.000 424566   \n",
       "3  1431226800000   59481         790                       n15360.000   \n",
       "4  1431831600000  156781         917                           828513   \n",
       "\n",
       "             datetime        date  \n",
       "0 2015-06-28 03:00:00  2015-06-28  \n",
       "1 2015-09-06 03:00:00  2015-09-06  \n",
       "2 2015-08-09 03:00:00  2015-08-09  \n",
       "3 2015-05-10 03:00:00  2015-05-10  \n",
       "4 2015-05-17 03:00:00  2015-05-17  "
      ]
     },
     "execution_count": 11,
     "metadata": {},
     "output_type": "execute_result"
    }
   ],
   "source": [
    "## Convert timestamp to date\n",
    "df_items1['datetime'] = pd.to_datetime(df_items1['timestamp'],unit='ms')\n",
    "df_items1['date'] = pd.to_datetime(df_items1['timestamp'],unit='ms').dt.date\n",
    "df_items1.head()"
   ]
  },
  {
   "cell_type": "code",
   "execution_count": 12,
   "id": "c327a5a4",
   "metadata": {},
   "outputs": [
    {
     "name": "stdout",
     "output_type": "stream",
     "text": [
      "Shapes of item props: (30, 6) (17, 6) (38, 6) (46, 6)\n"
     ]
    }
   ],
   "source": [
    "df_item1 = df_items1.query('itemid=='+str(item1))\n",
    "df_item2 = df_items1.query('itemid=='+str(item2))\n",
    "df_item3 = df_items1.query('itemid=='+str(item3))\n",
    "df_item4 = df_items1.query('itemid=='+str(item4))\n",
    "print(\"Shapes of item props:\",df_item1.shape, df_item2.shape, df_item3.shape, df_item4.shape)"
   ]
  },
  {
   "cell_type": "code",
   "execution_count": 13,
   "id": "a400b64c",
   "metadata": {},
   "outputs": [],
   "source": [
    "cat1 = df_item1.query(\"property=='categoryid'\")['value']\n",
    "cat2 = df_item2.query(\"property=='categoryid'\")['value']\n",
    "cat3 = df_item3.query(\"property=='categoryid'\")['value']\n",
    "cat4 = df_item4.query(\"property=='categoryid'\")['value']"
   ]
  },
  {
   "cell_type": "code",
   "execution_count": 14,
   "id": "ead5ab63",
   "metadata": {},
   "outputs": [
    {
     "name": "stdout",
     "output_type": "stream",
     "text": [
      "Category1: Series([], Name: value, dtype: object)\n",
      "Category2: 3232518    1662\n",
      "Name: value, dtype: object\n",
      "Category3: 6618483    1173\n",
      "Name: value, dtype: object\n",
      "Category4: 4204611    1258\n",
      "Name: value, dtype: object\n"
     ]
    }
   ],
   "source": [
    "print(\"Category1:\",cat1)\n",
    "print(\"Category2:\",cat2)\n",
    "print(\"Category3:\",cat3)\n",
    "print(\"Category4:\",cat4)"
   ]
  },
  {
   "cell_type": "markdown",
   "id": "40b9fe99",
   "metadata": {},
   "source": [
    "*We do not have categoryid for item1. Let us explore the other 3 items*\n",
    "\n",
    "#### First step is to load category heirarchy data into a dataframe"
   ]
  },
  {
   "cell_type": "code",
   "execution_count": 15,
   "id": "e5844d35",
   "metadata": {},
   "outputs": [
    {
     "data": {
      "text/html": [
       "<div>\n",
       "<style scoped>\n",
       "    .dataframe tbody tr th:only-of-type {\n",
       "        vertical-align: middle;\n",
       "    }\n",
       "\n",
       "    .dataframe tbody tr th {\n",
       "        vertical-align: top;\n",
       "    }\n",
       "\n",
       "    .dataframe thead th {\n",
       "        text-align: right;\n",
       "    }\n",
       "</style>\n",
       "<table border=\"1\" class=\"dataframe\">\n",
       "  <thead>\n",
       "    <tr style=\"text-align: right;\">\n",
       "      <th></th>\n",
       "      <th>categoryid</th>\n",
       "      <th>parentid</th>\n",
       "    </tr>\n",
       "  </thead>\n",
       "  <tbody>\n",
       "    <tr>\n",
       "      <th>0</th>\n",
       "      <td>1016</td>\n",
       "      <td>213.0</td>\n",
       "    </tr>\n",
       "    <tr>\n",
       "      <th>1</th>\n",
       "      <td>809</td>\n",
       "      <td>169.0</td>\n",
       "    </tr>\n",
       "    <tr>\n",
       "      <th>2</th>\n",
       "      <td>570</td>\n",
       "      <td>9.0</td>\n",
       "    </tr>\n",
       "    <tr>\n",
       "      <th>3</th>\n",
       "      <td>1691</td>\n",
       "      <td>885.0</td>\n",
       "    </tr>\n",
       "    <tr>\n",
       "      <th>4</th>\n",
       "      <td>536</td>\n",
       "      <td>1691.0</td>\n",
       "    </tr>\n",
       "  </tbody>\n",
       "</table>\n",
       "</div>"
      ],
      "text/plain": [
       "   categoryid  parentid\n",
       "0        1016     213.0\n",
       "1         809     169.0\n",
       "2         570       9.0\n",
       "3        1691     885.0\n",
       "4         536    1691.0"
      ]
     },
     "execution_count": 15,
     "metadata": {},
     "output_type": "execute_result"
    }
   ],
   "source": [
    "# Load category tree\n",
    "df_category_tree = pd.read_csv(datapath+category_tree)\n",
    "df_category_tree.head()"
   ]
  },
  {
   "cell_type": "markdown",
   "id": "73e5f4e2",
   "metadata": {},
   "source": [
    "#### Create Tree Data structure from category tree"
   ]
  },
  {
   "cell_type": "code",
   "execution_count": 23,
   "id": "025d5874",
   "metadata": {},
   "outputs": [
    {
     "data": {
      "text/plain": [
       "<module 'CategoryTree' from 'C:\\\\Users\\\\Samarth\\\\Documents\\\\ml_projects\\\\rec-items\\\\RetailRocket\\\\CategoryTree.py'>"
      ]
     },
     "execution_count": 23,
     "metadata": {},
     "output_type": "execute_result"
    }
   ],
   "source": [
    "import CategoryTree\n",
    "import importlib\n",
    "importlib.reload(CategoryTree)"
   ]
  },
  {
   "cell_type": "code",
   "execution_count": 24,
   "id": "71263209",
   "metadata": {},
   "outputs": [],
   "source": [
    "from CategoryTree import CategoryTree"
   ]
  },
  {
   "cell_type": "code",
   "execution_count": 25,
   "id": "0b93c3dc",
   "metadata": {},
   "outputs": [],
   "source": [
    "categoryTree = CategoryTree(df_category_tree)"
   ]
  },
  {
   "cell_type": "code",
   "execution_count": 26,
   "id": "bf961fe6",
   "metadata": {},
   "outputs": [],
   "source": [
    "categoryTree.build_trees()"
   ]
  },
  {
   "cell_type": "code",
   "execution_count": 27,
   "id": "156afff3",
   "metadata": {},
   "outputs": [
    {
     "name": "stdout",
     "output_type": "stream",
     "text": [
      "Number of independent trees: 25\n"
     ]
    }
   ],
   "source": [
    "print(\"Number of independent trees:\",len(categoryTree.trees))"
   ]
  },
  {
   "cell_type": "markdown",
   "id": "1b51a44c",
   "metadata": {},
   "source": [
    "#### Let us now search for the root node of category: 1662"
   ]
  },
  {
   "cell_type": "code",
   "execution_count": 28,
   "id": "91af66e8",
   "metadata": {},
   "outputs": [],
   "source": [
    "rootCat2 = categoryTree.get_root_category(cat2.iloc[0])\n",
    "rootCat3 = categoryTree.get_root_category(cat3.iloc[0])\n",
    "rootCat4 = categoryTree.get_root_category(cat4.iloc[0])"
   ]
  },
  {
   "cell_type": "code",
   "execution_count": 29,
   "id": "5318f569",
   "metadata": {},
   "outputs": [
    {
     "name": "stdout",
     "output_type": "stream",
     "text": [
      "Root Category for 1662: 679\n",
      "Root Category for 1173: 140\n",
      "Root Category for 1258: 140\n"
     ]
    }
   ],
   "source": [
    "print(\"Root Category for {}: {}\".format(cat2.iloc[0],rootCat2))\n",
    "print(\"Root Category for {}: {}\".format(cat3.iloc[0],rootCat3))\n",
    "print(\"Root Category for {}: {}\".format(cat4.iloc[0],rootCat4))"
   ]
  },
  {
   "cell_type": "markdown",
   "id": "51be36ba",
   "metadata": {},
   "source": [
    "*We see that Item 3 and Item 3 belong to the same Root Category*"
   ]
  },
  {
   "cell_type": "code",
   "execution_count": 31,
   "id": "a33dbf85",
   "metadata": {},
   "outputs": [
    {
     "name": "stdout",
     "output_type": "stream",
     "text": [
      "Printing Tree with Root Node 679\n",
      "Root: 679\n",
      "\tRoot: 1424\n",
      "\t\tRoot: 365\n",
      "\t\tRoot: 421\n",
      "\t\tRoot: 1143\n",
      "\t\tRoot: 553\n",
      "\t\tRoot: 1008\n",
      "\t\t\tRoot: 992\n",
      "\t\t\tRoot: 202\n",
      "\t\tRoot: 245\n",
      "\t\t\tRoot: 1520\n",
      "\t\tRoot: 230\n",
      "\t\tRoot: 1105\n",
      "\t\tRoot: 1215\n",
      "\t\t\tRoot: 1587\n",
      "\t\t\tRoot: 91\n",
      "\t\t\tRoot: 1199\n",
      "\t\t\tRoot: 1461\n",
      "\t\t\tRoot: 1204\n",
      "\t\t\tRoot: 1359\n",
      "\t\t\tRoot: 417\n",
      "\t\tRoot: 281\n",
      "\tRoot: 1139\n",
      "\t\tRoot: 310\n",
      "\t\tRoot: 258\n",
      "\t\tRoot: 550\n",
      "\t\tRoot: 449\n",
      "\tRoot: 630\n",
      "\t\tRoot: 1217\n",
      "\t\tRoot: 1662\n",
      "\t\tRoot: 752\n",
      "\t\tRoot: 233\n",
      "\t\tRoot: 103\n",
      "\t\tRoot: 1112\n",
      "\tRoot: 901\n",
      "\t\tRoot: 1231\n",
      "\t\tRoot: 368\n",
      "\t\tRoot: 833\n",
      "\tRoot: 313\n",
      "\t\tRoot: 1436\n",
      "\t\tRoot: 560\n",
      "\t\tRoot: 559\n",
      "\tRoot: 1544\n",
      "\tRoot: 491\n",
      "\tRoot: 869\n"
     ]
    }
   ],
   "source": [
    "print(\"Printing Tree with Root Node 679\")\n",
    "categoryTree.print_tree(categoryTree.trees[679],0)"
   ]
  },
  {
   "cell_type": "code",
   "execution_count": null,
   "id": "24c2fbef",
   "metadata": {},
   "outputs": [],
   "source": []
  }
 ],
 "metadata": {
  "kernelspec": {
   "display_name": "Python 3 (ipykernel)",
   "language": "python",
   "name": "python3"
  },
  "language_info": {
   "codemirror_mode": {
    "name": "ipython",
    "version": 3
   },
   "file_extension": ".py",
   "mimetype": "text/x-python",
   "name": "python",
   "nbconvert_exporter": "python",
   "pygments_lexer": "ipython3",
   "version": "3.9.1"
  }
 },
 "nbformat": 4,
 "nbformat_minor": 5
}
