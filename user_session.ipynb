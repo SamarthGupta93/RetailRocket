{
 "cells": [
  {
   "cell_type": "markdown",
   "id": "1dc586e1",
   "metadata": {},
   "source": [
    "### Aim\n",
    "\n",
    "Create a **user context** from the user events history\n",
    "\n",
    "**User Context** - A user context can be defined as the last N sessions of the user relative to the current date.<br>\n",
    "N is a parameter which can be optimized during model training. Here, we set it to 10.\n",
    "\n",
    "**Assumptions** - Let one session be defined as one day of user events"
   ]
  },
  {
   "cell_type": "code",
   "execution_count": 1,
   "id": "3f53e7ca",
   "metadata": {},
   "outputs": [],
   "source": [
    "import pandas as pd\n",
    "from collections import defaultdict\n",
    "import datetime\n",
    "import numpy as np"
   ]
  },
  {
   "cell_type": "code",
   "execution_count": 2,
   "id": "2201dbfc",
   "metadata": {},
   "outputs": [],
   "source": [
    "datapath = '../../datasets/user-items-recsys/'\n",
    "events_file = 'events.csv'\n",
    "category_tree = 'category_tree.csv'\n",
    "item_props_1 = 'item_properties_part1.csv'\n",
    "item_props_2 = 'item_properties_part2.csv'"
   ]
  },
  {
   "cell_type": "code",
   "execution_count": 3,
   "id": "2ac23f00",
   "metadata": {},
   "outputs": [
    {
     "data": {
      "text/plain": [
       "(2756101, 5)"
      ]
     },
     "execution_count": 3,
     "metadata": {},
     "output_type": "execute_result"
    }
   ],
   "source": [
    "df_events = pd.read_csv(datapath+events_file)\n",
    "df_events.shape"
   ]
  },
  {
   "cell_type": "code",
   "execution_count": 4,
   "id": "a42c1894",
   "metadata": {},
   "outputs": [
    {
     "data": {
      "text/html": [
       "<div>\n",
       "<style scoped>\n",
       "    .dataframe tbody tr th:only-of-type {\n",
       "        vertical-align: middle;\n",
       "    }\n",
       "\n",
       "    .dataframe tbody tr th {\n",
       "        vertical-align: top;\n",
       "    }\n",
       "\n",
       "    .dataframe thead th {\n",
       "        text-align: right;\n",
       "    }\n",
       "</style>\n",
       "<table border=\"1\" class=\"dataframe\">\n",
       "  <thead>\n",
       "    <tr style=\"text-align: right;\">\n",
       "      <th></th>\n",
       "      <th>timestamp</th>\n",
       "      <th>visitorid</th>\n",
       "      <th>event</th>\n",
       "      <th>itemid</th>\n",
       "      <th>transactionid</th>\n",
       "    </tr>\n",
       "  </thead>\n",
       "  <tbody>\n",
       "    <tr>\n",
       "      <th>0</th>\n",
       "      <td>1433221332117</td>\n",
       "      <td>257597</td>\n",
       "      <td>view</td>\n",
       "      <td>355908</td>\n",
       "      <td>NaN</td>\n",
       "    </tr>\n",
       "    <tr>\n",
       "      <th>1</th>\n",
       "      <td>1433224214164</td>\n",
       "      <td>992329</td>\n",
       "      <td>view</td>\n",
       "      <td>248676</td>\n",
       "      <td>NaN</td>\n",
       "    </tr>\n",
       "    <tr>\n",
       "      <th>2</th>\n",
       "      <td>1433221999827</td>\n",
       "      <td>111016</td>\n",
       "      <td>view</td>\n",
       "      <td>318965</td>\n",
       "      <td>NaN</td>\n",
       "    </tr>\n",
       "    <tr>\n",
       "      <th>3</th>\n",
       "      <td>1433221955914</td>\n",
       "      <td>483717</td>\n",
       "      <td>view</td>\n",
       "      <td>253185</td>\n",
       "      <td>NaN</td>\n",
       "    </tr>\n",
       "    <tr>\n",
       "      <th>4</th>\n",
       "      <td>1433221337106</td>\n",
       "      <td>951259</td>\n",
       "      <td>view</td>\n",
       "      <td>367447</td>\n",
       "      <td>NaN</td>\n",
       "    </tr>\n",
       "  </tbody>\n",
       "</table>\n",
       "</div>"
      ],
      "text/plain": [
       "       timestamp  visitorid event  itemid  transactionid\n",
       "0  1433221332117     257597  view  355908            NaN\n",
       "1  1433224214164     992329  view  248676            NaN\n",
       "2  1433221999827     111016  view  318965            NaN\n",
       "3  1433221955914     483717  view  253185            NaN\n",
       "4  1433221337106     951259  view  367447            NaN"
      ]
     },
     "execution_count": 4,
     "metadata": {},
     "output_type": "execute_result"
    }
   ],
   "source": [
    "df_events.head()"
   ]
  },
  {
   "cell_type": "code",
   "execution_count": 5,
   "id": "994199ad",
   "metadata": {},
   "outputs": [],
   "source": [
    "## Convert timestamp to date\n",
    "df_events['datetime'] = pd.to_datetime(df_events['timestamp'],unit='ms')\n",
    "df_events['date'] = pd.to_datetime(df_events['timestamp'],unit='ms').dt.date"
   ]
  },
  {
   "cell_type": "markdown",
   "id": "9da71d2a",
   "metadata": {},
   "source": [
    "#### Let us see if a user history gives any useful insights\n",
    "\n",
    "We will analyze his items and their categories to find any pattern.\n",
    "\n",
    "User ID = **992329**"
   ]
  },
  {
   "cell_type": "code",
   "execution_count": 6,
   "id": "598bdfe9",
   "metadata": {},
   "outputs": [],
   "source": [
    "user_id = 992329"
   ]
  },
  {
   "cell_type": "code",
   "execution_count": 7,
   "id": "02c79404",
   "metadata": {},
   "outputs": [],
   "source": [
    "df_user = df_events.query('visitorid=='+str(user_id))"
   ]
  },
  {
   "cell_type": "code",
   "execution_count": 8,
   "id": "fb8ae002",
   "metadata": {},
   "outputs": [
    {
     "name": "stdout",
     "output_type": "stream",
     "text": [
      "Number of events by this user: 30\n"
     ]
    },
    {
     "data": {
      "text/html": [
       "<div>\n",
       "<style scoped>\n",
       "    .dataframe tbody tr th:only-of-type {\n",
       "        vertical-align: middle;\n",
       "    }\n",
       "\n",
       "    .dataframe tbody tr th {\n",
       "        vertical-align: top;\n",
       "    }\n",
       "\n",
       "    .dataframe thead th {\n",
       "        text-align: right;\n",
       "    }\n",
       "</style>\n",
       "<table border=\"1\" class=\"dataframe\">\n",
       "  <thead>\n",
       "    <tr style=\"text-align: right;\">\n",
       "      <th></th>\n",
       "      <th>timestamp</th>\n",
       "      <th>visitorid</th>\n",
       "      <th>event</th>\n",
       "      <th>itemid</th>\n",
       "      <th>transactionid</th>\n",
       "      <th>datetime</th>\n",
       "      <th>date</th>\n",
       "    </tr>\n",
       "  </thead>\n",
       "  <tbody>\n",
       "    <tr>\n",
       "      <th>1</th>\n",
       "      <td>1433224214164</td>\n",
       "      <td>992329</td>\n",
       "      <td>view</td>\n",
       "      <td>248676</td>\n",
       "      <td>NaN</td>\n",
       "      <td>2015-06-02 05:50:14.164</td>\n",
       "      <td>2015-06-02</td>\n",
       "    </tr>\n",
       "    <tr>\n",
       "      <th>20559</th>\n",
       "      <td>1433224672007</td>\n",
       "      <td>992329</td>\n",
       "      <td>view</td>\n",
       "      <td>193150</td>\n",
       "      <td>NaN</td>\n",
       "      <td>2015-06-02 05:57:52.007</td>\n",
       "      <td>2015-06-02</td>\n",
       "    </tr>\n",
       "    <tr>\n",
       "      <th>44215</th>\n",
       "      <td>1433225555976</td>\n",
       "      <td>992329</td>\n",
       "      <td>view</td>\n",
       "      <td>246453</td>\n",
       "      <td>NaN</td>\n",
       "      <td>2015-06-02 06:12:35.976</td>\n",
       "      <td>2015-06-02</td>\n",
       "    </tr>\n",
       "    <tr>\n",
       "      <th>50030</th>\n",
       "      <td>1433395158782</td>\n",
       "      <td>992329</td>\n",
       "      <td>view</td>\n",
       "      <td>8775</td>\n",
       "      <td>NaN</td>\n",
       "      <td>2015-06-04 05:19:18.782</td>\n",
       "      <td>2015-06-04</td>\n",
       "    </tr>\n",
       "    <tr>\n",
       "      <th>64989</th>\n",
       "      <td>1433395205712</td>\n",
       "      <td>992329</td>\n",
       "      <td>view</td>\n",
       "      <td>8775</td>\n",
       "      <td>NaN</td>\n",
       "      <td>2015-06-04 05:20:05.712</td>\n",
       "      <td>2015-06-04</td>\n",
       "    </tr>\n",
       "  </tbody>\n",
       "</table>\n",
       "</div>"
      ],
      "text/plain": [
       "           timestamp  visitorid event  itemid  transactionid  \\\n",
       "1      1433224214164     992329  view  248676            NaN   \n",
       "20559  1433224672007     992329  view  193150            NaN   \n",
       "44215  1433225555976     992329  view  246453            NaN   \n",
       "50030  1433395158782     992329  view    8775            NaN   \n",
       "64989  1433395205712     992329  view    8775            NaN   \n",
       "\n",
       "                     datetime        date  \n",
       "1     2015-06-02 05:50:14.164  2015-06-02  \n",
       "20559 2015-06-02 05:57:52.007  2015-06-02  \n",
       "44215 2015-06-02 06:12:35.976  2015-06-02  \n",
       "50030 2015-06-04 05:19:18.782  2015-06-04  \n",
       "64989 2015-06-04 05:20:05.712  2015-06-04  "
      ]
     },
     "execution_count": 8,
     "metadata": {},
     "output_type": "execute_result"
    }
   ],
   "source": [
    "print(\"Number of events by this user:\",df_user.shape[0])\n",
    "df_user.head()"
   ]
  },
  {
   "cell_type": "markdown",
   "id": "6b317c32",
   "metadata": {},
   "source": [
    "Let us explore the itemid and see if he was searching for similar items"
   ]
  },
  {
   "cell_type": "code",
   "execution_count": 9,
   "id": "1b23098e",
   "metadata": {},
   "outputs": [],
   "source": [
    "items_list = df_user['itemid'].unique()"
   ]
  },
  {
   "cell_type": "code",
   "execution_count": 10,
   "id": "47965332",
   "metadata": {},
   "outputs": [],
   "source": [
    "# Load item properties\n",
    "df_items1 = pd.read_csv(datapath+item_props_1)\n",
    "# Load item properties\n",
    "df_items2 = pd.read_csv(datapath+item_props_2)"
   ]
  },
  {
   "cell_type": "code",
   "execution_count": 11,
   "id": "df7be352",
   "metadata": {},
   "outputs": [
    {
     "data": {
      "text/html": [
       "<div>\n",
       "<style scoped>\n",
       "    .dataframe tbody tr th:only-of-type {\n",
       "        vertical-align: middle;\n",
       "    }\n",
       "\n",
       "    .dataframe tbody tr th {\n",
       "        vertical-align: top;\n",
       "    }\n",
       "\n",
       "    .dataframe thead th {\n",
       "        text-align: right;\n",
       "    }\n",
       "</style>\n",
       "<table border=\"1\" class=\"dataframe\">\n",
       "  <thead>\n",
       "    <tr style=\"text-align: right;\">\n",
       "      <th></th>\n",
       "      <th>timestamp</th>\n",
       "      <th>itemid</th>\n",
       "      <th>property</th>\n",
       "      <th>value</th>\n",
       "      <th>datetime</th>\n",
       "      <th>date</th>\n",
       "    </tr>\n",
       "  </thead>\n",
       "  <tbody>\n",
       "    <tr>\n",
       "      <th>0</th>\n",
       "      <td>1433041200000</td>\n",
       "      <td>183478</td>\n",
       "      <td>561</td>\n",
       "      <td>769062</td>\n",
       "      <td>2015-05-31 03:00:00</td>\n",
       "      <td>2015-05-31</td>\n",
       "    </tr>\n",
       "    <tr>\n",
       "      <th>1</th>\n",
       "      <td>1439694000000</td>\n",
       "      <td>132256</td>\n",
       "      <td>976</td>\n",
       "      <td>n26.400 1135780</td>\n",
       "      <td>2015-08-16 03:00:00</td>\n",
       "      <td>2015-08-16</td>\n",
       "    </tr>\n",
       "    <tr>\n",
       "      <th>2</th>\n",
       "      <td>1435460400000</td>\n",
       "      <td>420307</td>\n",
       "      <td>921</td>\n",
       "      <td>1149317 1257525</td>\n",
       "      <td>2015-06-28 03:00:00</td>\n",
       "      <td>2015-06-28</td>\n",
       "    </tr>\n",
       "    <tr>\n",
       "      <th>3</th>\n",
       "      <td>1431831600000</td>\n",
       "      <td>403324</td>\n",
       "      <td>917</td>\n",
       "      <td>1204143</td>\n",
       "      <td>2015-05-17 03:00:00</td>\n",
       "      <td>2015-05-17</td>\n",
       "    </tr>\n",
       "    <tr>\n",
       "      <th>4</th>\n",
       "      <td>1435460400000</td>\n",
       "      <td>230701</td>\n",
       "      <td>521</td>\n",
       "      <td>769062</td>\n",
       "      <td>2015-06-28 03:00:00</td>\n",
       "      <td>2015-06-28</td>\n",
       "    </tr>\n",
       "  </tbody>\n",
       "</table>\n",
       "</div>"
      ],
      "text/plain": [
       "       timestamp  itemid property            value            datetime  \\\n",
       "0  1433041200000  183478      561           769062 2015-05-31 03:00:00   \n",
       "1  1439694000000  132256      976  n26.400 1135780 2015-08-16 03:00:00   \n",
       "2  1435460400000  420307      921  1149317 1257525 2015-06-28 03:00:00   \n",
       "3  1431831600000  403324      917          1204143 2015-05-17 03:00:00   \n",
       "4  1435460400000  230701      521           769062 2015-06-28 03:00:00   \n",
       "\n",
       "         date  \n",
       "0  2015-05-31  \n",
       "1  2015-08-16  \n",
       "2  2015-06-28  \n",
       "3  2015-05-17  \n",
       "4  2015-06-28  "
      ]
     },
     "execution_count": 11,
     "metadata": {},
     "output_type": "execute_result"
    }
   ],
   "source": [
    "## Convert timestamp to date\n",
    "df_items1['datetime'] = pd.to_datetime(df_items1['timestamp'],unit='ms')\n",
    "df_items1['date'] = pd.to_datetime(df_items1['timestamp'],unit='ms').dt.date\n",
    "df_items1.head()\n",
    "\n",
    "## Convert timestamp to date\n",
    "df_items2['datetime'] = pd.to_datetime(df_items2['timestamp'],unit='ms')\n",
    "df_items2['date'] = pd.to_datetime(df_items2['timestamp'],unit='ms').dt.date\n",
    "df_items2.head()"
   ]
  },
  {
   "cell_type": "code",
   "execution_count": 12,
   "id": "bb84e13b",
   "metadata": {},
   "outputs": [],
   "source": [
    "df_items = pd.concat([df_items1,df_items2])"
   ]
  },
  {
   "cell_type": "markdown",
   "id": "6392dbac",
   "metadata": {},
   "source": [
    "**Filter for the items viewed by the user**"
   ]
  },
  {
   "cell_type": "code",
   "execution_count": 13,
   "id": "b602ac7f",
   "metadata": {},
   "outputs": [
    {
     "name": "stdout",
     "output_type": "stream",
     "text": [
      "Number of items viewed by the user: 24\n",
      "Number of items for which we have a category: 15\n"
     ]
    }
   ],
   "source": [
    "df_item_properties = df_items1.query(\"itemid in @items_list\")\n",
    "df_item_categories = df_item_properties.query(\"property=='categoryid'\")\n",
    "print(\"Number of items viewed by the user:\",len(items_list))\n",
    "print(\"Number of items for which we have a category:\",len(df_item_categories['itemid'].unique()))"
   ]
  },
  {
   "cell_type": "markdown",
   "id": "2c202476",
   "metadata": {},
   "source": [
    "This means we have 9 items where we do not have a categoryid.<br>\n",
    "Ignoring those and analyzing the categories of the remaining 15 items"
   ]
  },
  {
   "cell_type": "markdown",
   "id": "40b9fe99",
   "metadata": {},
   "source": [
    "**Now let us explore the items**\n",
    "\n",
    "1. We first load the category heirarchy table.\n",
    "2. Then, we build a Tree data structure from the heirarchy dataframe.\n",
    "3. Analyze which items belong to a common root category.\n",
    "\n",
    "*Tree data structure allows us to easily analyze the common ancester of two categories*<br>\n",
    "*A root category is the category at the root node of the heirarchy*\n",
    "\n",
    "#### Step 1: Load category heirarchy data into a dataframe"
   ]
  },
  {
   "cell_type": "code",
   "execution_count": 14,
   "id": "e5844d35",
   "metadata": {},
   "outputs": [
    {
     "data": {
      "text/html": [
       "<div>\n",
       "<style scoped>\n",
       "    .dataframe tbody tr th:only-of-type {\n",
       "        vertical-align: middle;\n",
       "    }\n",
       "\n",
       "    .dataframe tbody tr th {\n",
       "        vertical-align: top;\n",
       "    }\n",
       "\n",
       "    .dataframe thead th {\n",
       "        text-align: right;\n",
       "    }\n",
       "</style>\n",
       "<table border=\"1\" class=\"dataframe\">\n",
       "  <thead>\n",
       "    <tr style=\"text-align: right;\">\n",
       "      <th></th>\n",
       "      <th>categoryid</th>\n",
       "      <th>parentid</th>\n",
       "    </tr>\n",
       "  </thead>\n",
       "  <tbody>\n",
       "    <tr>\n",
       "      <th>0</th>\n",
       "      <td>1016</td>\n",
       "      <td>213.0</td>\n",
       "    </tr>\n",
       "    <tr>\n",
       "      <th>1</th>\n",
       "      <td>809</td>\n",
       "      <td>169.0</td>\n",
       "    </tr>\n",
       "    <tr>\n",
       "      <th>2</th>\n",
       "      <td>570</td>\n",
       "      <td>9.0</td>\n",
       "    </tr>\n",
       "    <tr>\n",
       "      <th>3</th>\n",
       "      <td>1691</td>\n",
       "      <td>885.0</td>\n",
       "    </tr>\n",
       "    <tr>\n",
       "      <th>4</th>\n",
       "      <td>536</td>\n",
       "      <td>1691.0</td>\n",
       "    </tr>\n",
       "  </tbody>\n",
       "</table>\n",
       "</div>"
      ],
      "text/plain": [
       "   categoryid  parentid\n",
       "0        1016     213.0\n",
       "1         809     169.0\n",
       "2         570       9.0\n",
       "3        1691     885.0\n",
       "4         536    1691.0"
      ]
     },
     "execution_count": 14,
     "metadata": {},
     "output_type": "execute_result"
    }
   ],
   "source": [
    "# Load category tree\n",
    "df_category_tree = pd.read_csv(datapath+category_tree)\n",
    "df_category_tree.head()"
   ]
  },
  {
   "cell_type": "markdown",
   "id": "73e5f4e2",
   "metadata": {},
   "source": [
    "#### Step 2: Create Tree Data structure from category tree"
   ]
  },
  {
   "cell_type": "code",
   "execution_count": 15,
   "id": "025d5874",
   "metadata": {},
   "outputs": [
    {
     "data": {
      "text/plain": [
       "<module 'CategoryTree' from 'C:\\\\Users\\\\Samarth\\\\Documents\\\\ml_projects\\\\rec-items\\\\RetailRocket\\\\CategoryTree.py'>"
      ]
     },
     "execution_count": 15,
     "metadata": {},
     "output_type": "execute_result"
    }
   ],
   "source": [
    "import CategoryTree\n",
    "import importlib\n",
    "importlib.reload(CategoryTree)"
   ]
  },
  {
   "cell_type": "code",
   "execution_count": 16,
   "id": "71263209",
   "metadata": {},
   "outputs": [],
   "source": [
    "from CategoryTree import CategoryTree"
   ]
  },
  {
   "cell_type": "code",
   "execution_count": 17,
   "id": "0b93c3dc",
   "metadata": {},
   "outputs": [],
   "source": [
    "categoryTree = CategoryTree(df_category_tree)"
   ]
  },
  {
   "cell_type": "code",
   "execution_count": 18,
   "id": "bf961fe6",
   "metadata": {},
   "outputs": [],
   "source": [
    "categoryTree.build_trees()"
   ]
  },
  {
   "cell_type": "code",
   "execution_count": 19,
   "id": "156afff3",
   "metadata": {},
   "outputs": [
    {
     "name": "stdout",
     "output_type": "stream",
     "text": [
      "Number of independent trees: 25\n",
      "This indicates that there are 25 independent root categories not linked to each other\n"
     ]
    }
   ],
   "source": [
    "print(\"Number of independent trees:\",len(categoryTree.trees))\n",
    "print(\"This indicates that there are {} independent root categories not linked to each other\".format(len(categoryTree.trees)))"
   ]
  },
  {
   "cell_type": "markdown",
   "id": "a7316670",
   "metadata": {},
   "source": [
    "#### Printing a category tree\n",
    "\n",
    "Let us print out a tree to visualize what it looks like"
   ]
  },
  {
   "cell_type": "code",
   "execution_count": 20,
   "id": "a33dbf85",
   "metadata": {},
   "outputs": [
    {
     "name": "stdout",
     "output_type": "stream",
     "text": [
      "Printing Tree with Root Category 679\n",
      "Node: 679\n",
      "\tNode: 1424\n",
      "\t\tNode: 365\n",
      "\t\tNode: 421\n",
      "\t\tNode: 1143\n",
      "\t\tNode: 553\n",
      "\t\tNode: 1008\n",
      "\t\t\tNode: 992\n",
      "\t\t\tNode: 202\n",
      "\t\tNode: 245\n",
      "\t\t\tNode: 1520\n",
      "\t\tNode: 230\n",
      "\t\tNode: 1105\n",
      "\t\tNode: 1215\n",
      "\t\t\tNode: 1587\n",
      "\t\t\tNode: 91\n",
      "\t\t\tNode: 1199\n",
      "\t\t\tNode: 1461\n",
      "\t\t\tNode: 1204\n",
      "\t\t\tNode: 1359\n",
      "\t\t\tNode: 417\n",
      "\t\tNode: 281\n",
      "\tNode: 1139\n",
      "\t\tNode: 310\n",
      "\t\tNode: 258\n",
      "\t\tNode: 550\n",
      "\t\tNode: 449\n",
      "\tNode: 630\n",
      "\t\tNode: 1217\n",
      "\t\tNode: 1662\n",
      "\t\tNode: 752\n",
      "\t\tNode: 233\n",
      "\t\tNode: 103\n",
      "\t\tNode: 1112\n",
      "\tNode: 901\n",
      "\t\tNode: 1231\n",
      "\t\tNode: 368\n",
      "\t\tNode: 833\n",
      "\tNode: 313\n",
      "\t\tNode: 1436\n",
      "\t\tNode: 560\n",
      "\t\tNode: 559\n",
      "\tNode: 1544\n",
      "\tNode: 491\n",
      "\tNode: 869\n"
     ]
    }
   ],
   "source": [
    "print(\"Printing Tree with Root Category 679\")\n",
    "categoryTree.print_tree(categoryTree.trees[679],0)"
   ]
  },
  {
   "cell_type": "markdown",
   "id": "1b51a44c",
   "metadata": {},
   "source": [
    "#### Step3: Let us now search for the root categories of items viewed by the user"
   ]
  },
  {
   "cell_type": "code",
   "execution_count": 21,
   "id": "e7e99726",
   "metadata": {},
   "outputs": [
    {
     "name": "stdout",
     "output_type": "stream",
     "text": [
      "The following dictionary shows the list of items belonging to a root category\n",
      "(Key-Value pair. Key: Root Category, Value: List of categories of items viewed by user)\n"
     ]
    },
    {
     "data": {
      "text/plain": [
       "{140: ['1219',\n",
       "  '1258',\n",
       "  '473',\n",
       "  '471',\n",
       "  '1248',\n",
       "  '1219',\n",
       "  '1173',\n",
       "  '34',\n",
       "  '531',\n",
       "  '279'],\n",
       " 395: ['411', '1483'],\n",
       " 679: ['1662', '833'],\n",
       " 1224: ['612']}"
      ]
     },
     "execution_count": 21,
     "metadata": {},
     "output_type": "execute_result"
    }
   ],
   "source": [
    "rootCatsMap = defaultdict(list)\n",
    "for category in df_item_categories['value'].values:\n",
    "    rootCatsMap[categoryTree.get_root_category(category)].append(category)\n",
    "    \n",
    "print(\"The following dictionary shows the list of items belonging to a root category\")\n",
    "print(\"(Key-Value pair. Key: Root Category, Value: List of categories of items viewed by user)\")\n",
    "dict(rootCatsMap)"
   ]
  },
  {
   "cell_type": "markdown",
   "id": "95442f22",
   "metadata": {},
   "source": [
    "*We see that the user has mostly viewed items from the Root Category: **140**.\n",
    "This gives us a clue to recommend him items from this category*"
   ]
  },
  {
   "cell_type": "markdown",
   "id": "6af1605b",
   "metadata": {},
   "source": [
    "### User session"
   ]
  },
  {
   "cell_type": "markdown",
   "id": "5d422c0d",
   "metadata": {},
   "source": [
    "Let us take one session, i.e one day of user events"
   ]
  },
  {
   "cell_type": "code",
   "execution_count": 22,
   "id": "4c505eae",
   "metadata": {},
   "outputs": [
    {
     "name": "stdout",
     "output_type": "stream",
     "text": [
      "Number of events for this user: 30\n",
      "Number of sessions for this user: 15\n"
     ]
    }
   ],
   "source": [
    "print(\"Number of events for this user:\",df_user.shape[0])\n",
    "session_dates = df_user['date'].unique()\n",
    "print(\"Number of sessions for this user:\",len(session_dates))"
   ]
  },
  {
   "cell_type": "code",
   "execution_count": 23,
   "id": "de47f001",
   "metadata": {},
   "outputs": [
    {
     "name": "stdout",
     "output_type": "stream",
     "text": [
      "Here are the session dates\n",
      "[datetime.date(2015, 6, 2) datetime.date(2015, 6, 4)\n",
      " datetime.date(2015, 6, 5) datetime.date(2015, 6, 8)\n",
      " datetime.date(2015, 6, 7) datetime.date(2015, 6, 10)\n",
      " datetime.date(2015, 6, 13) datetime.date(2015, 6, 11)\n",
      " datetime.date(2015, 6, 22) datetime.date(2015, 6, 26)\n",
      " datetime.date(2015, 5, 5) datetime.date(2015, 5, 28)\n",
      " datetime.date(2015, 7, 6) datetime.date(2015, 7, 10)\n",
      " datetime.date(2015, 7, 30)]\n"
     ]
    }
   ],
   "source": [
    "print(\"Here are the session dates\")\n",
    "print(session_dates)"
   ]
  },
  {
   "cell_type": "markdown",
   "id": "6905a9b2",
   "metadata": {},
   "source": [
    "#### Let us create a session for 5th June"
   ]
  },
  {
   "cell_type": "code",
   "execution_count": 24,
   "id": "076e9b58",
   "metadata": {},
   "outputs": [
    {
     "data": {
      "text/html": [
       "<div>\n",
       "<style scoped>\n",
       "    .dataframe tbody tr th:only-of-type {\n",
       "        vertical-align: middle;\n",
       "    }\n",
       "\n",
       "    .dataframe tbody tr th {\n",
       "        vertical-align: top;\n",
       "    }\n",
       "\n",
       "    .dataframe thead th {\n",
       "        text-align: right;\n",
       "    }\n",
       "</style>\n",
       "<table border=\"1\" class=\"dataframe\">\n",
       "  <thead>\n",
       "    <tr style=\"text-align: right;\">\n",
       "      <th></th>\n",
       "      <th>timestamp</th>\n",
       "      <th>visitorid</th>\n",
       "      <th>event</th>\n",
       "      <th>itemid</th>\n",
       "      <th>transactionid</th>\n",
       "      <th>datetime</th>\n",
       "      <th>date</th>\n",
       "    </tr>\n",
       "  </thead>\n",
       "  <tbody>\n",
       "    <tr>\n",
       "      <th>82514</th>\n",
       "      <td>1433480383896</td>\n",
       "      <td>992329</td>\n",
       "      <td>view</td>\n",
       "      <td>225942</td>\n",
       "      <td>NaN</td>\n",
       "      <td>2015-06-05 04:59:43.896</td>\n",
       "      <td>2015-06-05</td>\n",
       "    </tr>\n",
       "    <tr>\n",
       "      <th>92903</th>\n",
       "      <td>1433480149682</td>\n",
       "      <td>992329</td>\n",
       "      <td>view</td>\n",
       "      <td>437767</td>\n",
       "      <td>NaN</td>\n",
       "      <td>2015-06-05 04:55:49.682</td>\n",
       "      <td>2015-06-05</td>\n",
       "    </tr>\n",
       "    <tr>\n",
       "      <th>93057</th>\n",
       "      <td>1433480524891</td>\n",
       "      <td>992329</td>\n",
       "      <td>view</td>\n",
       "      <td>314515</td>\n",
       "      <td>NaN</td>\n",
       "      <td>2015-06-05 05:02:04.891</td>\n",
       "      <td>2015-06-05</td>\n",
       "    </tr>\n",
       "  </tbody>\n",
       "</table>\n",
       "</div>"
      ],
      "text/plain": [
       "           timestamp  visitorid event  itemid  transactionid  \\\n",
       "82514  1433480383896     992329  view  225942            NaN   \n",
       "92903  1433480149682     992329  view  437767            NaN   \n",
       "93057  1433480524891     992329  view  314515            NaN   \n",
       "\n",
       "                     datetime        date  \n",
       "82514 2015-06-05 04:59:43.896  2015-06-05  \n",
       "92903 2015-06-05 04:55:49.682  2015-06-05  \n",
       "93057 2015-06-05 05:02:04.891  2015-06-05  "
      ]
     },
     "execution_count": 24,
     "metadata": {},
     "output_type": "execute_result"
    }
   ],
   "source": [
    "df_session = df_user[df_user['date']==datetime.date(2015,6,5)]\n",
    "df_session"
   ]
  },
  {
   "cell_type": "code",
   "execution_count": 25,
   "id": "e824b7a7",
   "metadata": {},
   "outputs": [
    {
     "name": "stdout",
     "output_type": "stream",
     "text": [
      "Number of events on 5th June: 3\n"
     ]
    }
   ],
   "source": [
    "print(\"Number of events on 5th June:\",df_session.shape[0])"
   ]
  },
  {
   "cell_type": "markdown",
   "id": "f49e71db",
   "metadata": {},
   "source": [
    "### User Context\n",
    "\n",
    "*Stack up last N sessions to create a context*\n",
    "\n",
    "1. Create input for single user session\n",
    "2. Stack up last N session to form a context"
   ]
  },
  {
   "cell_type": "code",
   "execution_count": 26,
   "id": "6e72222b",
   "metadata": {},
   "outputs": [],
   "source": [
    "context_N = 10"
   ]
  },
  {
   "cell_type": "markdown",
   "id": "1a0910a0",
   "metadata": {},
   "source": [
    "#### Some basic statistics"
   ]
  },
  {
   "cell_type": "code",
   "execution_count": 27,
   "id": "0faff454",
   "metadata": {},
   "outputs": [
    {
     "name": "stdout",
     "output_type": "stream",
     "text": [
      "Number of unique items: 417053\n"
     ]
    }
   ],
   "source": [
    "n_items = df_items['itemid'].unique()\n",
    "print(\"Number of unique items:\",len(n_items))"
   ]
  },
  {
   "cell_type": "code",
   "execution_count": 28,
   "id": "0d8f592e",
   "metadata": {},
   "outputs": [
    {
     "name": "stdout",
     "output_type": "stream",
     "text": [
      "Number of unique items in the events table: 235061\n"
     ]
    }
   ],
   "source": [
    "event_items = df_events['itemid'].unique()\n",
    "print(\"Number of unique items in the events table:\",len(event_items))"
   ]
  },
  {
   "cell_type": "markdown",
   "id": "acb570f1",
   "metadata": {},
   "source": [
    "*Number of Events*: 2.75M<br>\n",
    "*Number of unique items*: 417,053<br>\n",
    "*Items having an event*: 235,061"
   ]
  },
  {
   "cell_type": "code",
   "execution_count": 29,
   "id": "1fa44305",
   "metadata": {},
   "outputs": [
    {
     "name": "stdout",
     "output_type": "stream",
     "text": [
      "Number of items having 0 events: 181992\n"
     ]
    }
   ],
   "source": [
    "print(\"Number of items having 0 events:\",len(n_items)-len(event_items))"
   ]
  },
  {
   "cell_type": "markdown",
   "id": "a9a78f9b",
   "metadata": {},
   "source": [
    "#### Step 1: Creating input for single user session\n",
    "\n",
    "Vectorize itemid and create session of N events.<br>\n",
    "Each session will have itemid as One Hot Vector which will be passed to embedding to get item embedding"
   ]
  },
  {
   "cell_type": "code",
   "execution_count": 30,
   "id": "c3680cad",
   "metadata": {},
   "outputs": [],
   "source": [
    "from sklearn.preprocessing import OneHotEncoder"
   ]
  },
  {
   "cell_type": "code",
   "execution_count": 31,
   "id": "64bfab43",
   "metadata": {},
   "outputs": [],
   "source": [
    "tokenizer = OneHotEncoder(sparse=False)"
   ]
  },
  {
   "cell_type": "code",
   "execution_count": 32,
   "id": "cf734be0",
   "metadata": {},
   "outputs": [
    {
     "data": {
      "text/html": [
       "<div>\n",
       "<style scoped>\n",
       "    .dataframe tbody tr th:only-of-type {\n",
       "        vertical-align: middle;\n",
       "    }\n",
       "\n",
       "    .dataframe tbody tr th {\n",
       "        vertical-align: top;\n",
       "    }\n",
       "\n",
       "    .dataframe thead th {\n",
       "        text-align: right;\n",
       "    }\n",
       "</style>\n",
       "<table border=\"1\" class=\"dataframe\">\n",
       "  <thead>\n",
       "    <tr style=\"text-align: right;\">\n",
       "      <th></th>\n",
       "      <th>timestamp</th>\n",
       "      <th>visitorid</th>\n",
       "      <th>event</th>\n",
       "      <th>itemid</th>\n",
       "      <th>transactionid</th>\n",
       "      <th>datetime</th>\n",
       "      <th>date</th>\n",
       "    </tr>\n",
       "  </thead>\n",
       "  <tbody>\n",
       "    <tr>\n",
       "      <th>82514</th>\n",
       "      <td>1433480383896</td>\n",
       "      <td>992329</td>\n",
       "      <td>view</td>\n",
       "      <td>225942</td>\n",
       "      <td>NaN</td>\n",
       "      <td>2015-06-05 04:59:43.896</td>\n",
       "      <td>2015-06-05</td>\n",
       "    </tr>\n",
       "    <tr>\n",
       "      <th>92903</th>\n",
       "      <td>1433480149682</td>\n",
       "      <td>992329</td>\n",
       "      <td>view</td>\n",
       "      <td>437767</td>\n",
       "      <td>NaN</td>\n",
       "      <td>2015-06-05 04:55:49.682</td>\n",
       "      <td>2015-06-05</td>\n",
       "    </tr>\n",
       "    <tr>\n",
       "      <th>93057</th>\n",
       "      <td>1433480524891</td>\n",
       "      <td>992329</td>\n",
       "      <td>view</td>\n",
       "      <td>314515</td>\n",
       "      <td>NaN</td>\n",
       "      <td>2015-06-05 05:02:04.891</td>\n",
       "      <td>2015-06-05</td>\n",
       "    </tr>\n",
       "  </tbody>\n",
       "</table>\n",
       "</div>"
      ],
      "text/plain": [
       "           timestamp  visitorid event  itemid  transactionid  \\\n",
       "82514  1433480383896     992329  view  225942            NaN   \n",
       "92903  1433480149682     992329  view  437767            NaN   \n",
       "93057  1433480524891     992329  view  314515            NaN   \n",
       "\n",
       "                     datetime        date  \n",
       "82514 2015-06-05 04:59:43.896  2015-06-05  \n",
       "92903 2015-06-05 04:55:49.682  2015-06-05  \n",
       "93057 2015-06-05 05:02:04.891  2015-06-05  "
      ]
     },
     "execution_count": 32,
     "metadata": {},
     "output_type": "execute_result"
    }
   ],
   "source": [
    "df_session"
   ]
  },
  {
   "cell_type": "code",
   "execution_count": 33,
   "id": "f687bd82",
   "metadata": {},
   "outputs": [
    {
     "data": {
      "text/plain": [
       "OneHotEncoder(sparse=False)"
      ]
     },
     "execution_count": 33,
     "metadata": {},
     "output_type": "execute_result"
    }
   ],
   "source": [
    "event_items = np.array(event_items).reshape((-1,1))\n",
    "tokenizer.fit(event_items)"
   ]
  },
  {
   "cell_type": "code",
   "execution_count": 34,
   "id": "05849517",
   "metadata": {},
   "outputs": [
    {
     "name": "stdout",
     "output_type": "stream",
     "text": [
      "Shape of session containing 3 events: (3, 235061)\n"
     ]
    }
   ],
   "source": [
    "X_session = tokenizer.transform(np.array(df_session['itemid']).reshape(-1,1))\n",
    "print(\"Shape of session containing 3 events:\",X_session.shape)"
   ]
  },
  {
   "cell_type": "markdown",
   "id": "e831badf",
   "metadata": {},
   "source": [
    "#### Step 2: Let us concatenate last 10 available user sessions"
   ]
  },
  {
   "cell_type": "code",
   "execution_count": 35,
   "id": "44d9f2b6",
   "metadata": {},
   "outputs": [],
   "source": [
    "curr_date = datetime.date(2022,2,15)\n",
    "lastN = 10"
   ]
  },
  {
   "cell_type": "code",
   "execution_count": 36,
   "id": "e30ff2b3",
   "metadata": {},
   "outputs": [
    {
     "data": {
      "text/html": [
       "<div>\n",
       "<style scoped>\n",
       "    .dataframe tbody tr th:only-of-type {\n",
       "        vertical-align: middle;\n",
       "    }\n",
       "\n",
       "    .dataframe tbody tr th {\n",
       "        vertical-align: top;\n",
       "    }\n",
       "\n",
       "    .dataframe thead th {\n",
       "        text-align: right;\n",
       "    }\n",
       "</style>\n",
       "<table border=\"1\" class=\"dataframe\">\n",
       "  <thead>\n",
       "    <tr style=\"text-align: right;\">\n",
       "      <th></th>\n",
       "      <th>timestamp</th>\n",
       "      <th>visitorid</th>\n",
       "      <th>event</th>\n",
       "      <th>itemid</th>\n",
       "      <th>transactionid</th>\n",
       "      <th>datetime</th>\n",
       "      <th>date</th>\n",
       "    </tr>\n",
       "  </thead>\n",
       "  <tbody>\n",
       "    <tr>\n",
       "      <th>1492085</th>\n",
       "      <td>1430802384830</td>\n",
       "      <td>992329</td>\n",
       "      <td>view</td>\n",
       "      <td>2711</td>\n",
       "      <td>NaN</td>\n",
       "      <td>2015-05-05 05:06:24.830</td>\n",
       "      <td>2015-05-05</td>\n",
       "    </tr>\n",
       "    <tr>\n",
       "      <th>1981137</th>\n",
       "      <td>1432781848232</td>\n",
       "      <td>992329</td>\n",
       "      <td>view</td>\n",
       "      <td>340825</td>\n",
       "      <td>NaN</td>\n",
       "      <td>2015-05-28 02:57:28.232</td>\n",
       "      <td>2015-05-28</td>\n",
       "    </tr>\n",
       "    <tr>\n",
       "      <th>1972814</th>\n",
       "      <td>1432782322169</td>\n",
       "      <td>992329</td>\n",
       "      <td>view</td>\n",
       "      <td>446522</td>\n",
       "      <td>NaN</td>\n",
       "      <td>2015-05-28 03:05:22.169</td>\n",
       "      <td>2015-05-28</td>\n",
       "    </tr>\n",
       "    <tr>\n",
       "      <th>1</th>\n",
       "      <td>1433224214164</td>\n",
       "      <td>992329</td>\n",
       "      <td>view</td>\n",
       "      <td>248676</td>\n",
       "      <td>NaN</td>\n",
       "      <td>2015-06-02 05:50:14.164</td>\n",
       "      <td>2015-06-02</td>\n",
       "    </tr>\n",
       "    <tr>\n",
       "      <th>20559</th>\n",
       "      <td>1433224672007</td>\n",
       "      <td>992329</td>\n",
       "      <td>view</td>\n",
       "      <td>193150</td>\n",
       "      <td>NaN</td>\n",
       "      <td>2015-06-02 05:57:52.007</td>\n",
       "      <td>2015-06-02</td>\n",
       "    </tr>\n",
       "  </tbody>\n",
       "</table>\n",
       "</div>"
      ],
      "text/plain": [
       "             timestamp  visitorid event  itemid  transactionid  \\\n",
       "1492085  1430802384830     992329  view    2711            NaN   \n",
       "1981137  1432781848232     992329  view  340825            NaN   \n",
       "1972814  1432782322169     992329  view  446522            NaN   \n",
       "1        1433224214164     992329  view  248676            NaN   \n",
       "20559    1433224672007     992329  view  193150            NaN   \n",
       "\n",
       "                       datetime        date  \n",
       "1492085 2015-05-05 05:06:24.830  2015-05-05  \n",
       "1981137 2015-05-28 02:57:28.232  2015-05-28  \n",
       "1972814 2015-05-28 03:05:22.169  2015-05-28  \n",
       "1       2015-06-02 05:50:14.164  2015-06-02  \n",
       "20559   2015-06-02 05:57:52.007  2015-06-02  "
      ]
     },
     "execution_count": 36,
     "metadata": {},
     "output_type": "execute_result"
    }
   ],
   "source": [
    "## Filter for all the data before this\n",
    "df_user = df_user.sort_values(by=\"datetime\")\n",
    "df_user.head()"
   ]
  },
  {
   "cell_type": "code",
   "execution_count": 37,
   "id": "1286e72f",
   "metadata": {},
   "outputs": [],
   "source": [
    "def get_last_n_sessions_for_user(user_id, curr_date, n=5):\n",
    "    df_user = df_events.query(\"visitorid == @user_id and date < @curr_date\").sort_values(by='datetime')\n",
    "    user_session_dates = df_user['date'].unique()\n",
    "    lastN_dates = sorted(user_session_dates)[-n:]\n",
    "    return df_user.query(\"date in @lastN_dates\")"
   ]
  },
  {
   "cell_type": "code",
   "execution_count": 38,
   "id": "bddc3b7a",
   "metadata": {},
   "outputs": [
    {
     "name": "stdout",
     "output_type": "stream",
     "text": [
      "Number of events in last 10 sessions: 18\n"
     ]
    },
    {
     "data": {
      "text/html": [
       "<div>\n",
       "<style scoped>\n",
       "    .dataframe tbody tr th:only-of-type {\n",
       "        vertical-align: middle;\n",
       "    }\n",
       "\n",
       "    .dataframe tbody tr th {\n",
       "        vertical-align: top;\n",
       "    }\n",
       "\n",
       "    .dataframe thead th {\n",
       "        text-align: right;\n",
       "    }\n",
       "</style>\n",
       "<table border=\"1\" class=\"dataframe\">\n",
       "  <thead>\n",
       "    <tr style=\"text-align: right;\">\n",
       "      <th></th>\n",
       "      <th>timestamp</th>\n",
       "      <th>visitorid</th>\n",
       "      <th>event</th>\n",
       "      <th>itemid</th>\n",
       "      <th>transactionid</th>\n",
       "      <th>datetime</th>\n",
       "      <th>date</th>\n",
       "    </tr>\n",
       "  </thead>\n",
       "  <tbody>\n",
       "    <tr>\n",
       "      <th>145189</th>\n",
       "      <td>1433703062882</td>\n",
       "      <td>992329</td>\n",
       "      <td>view</td>\n",
       "      <td>48030</td>\n",
       "      <td>NaN</td>\n",
       "      <td>2015-06-07 18:51:02.882</td>\n",
       "      <td>2015-06-07</td>\n",
       "    </tr>\n",
       "    <tr>\n",
       "      <th>133651</th>\n",
       "      <td>1433729380709</td>\n",
       "      <td>992329</td>\n",
       "      <td>view</td>\n",
       "      <td>352788</td>\n",
       "      <td>NaN</td>\n",
       "      <td>2015-06-08 02:09:40.709</td>\n",
       "      <td>2015-06-08</td>\n",
       "    </tr>\n",
       "    <tr>\n",
       "      <th>133782</th>\n",
       "      <td>1433729489683</td>\n",
       "      <td>992329</td>\n",
       "      <td>view</td>\n",
       "      <td>169213</td>\n",
       "      <td>NaN</td>\n",
       "      <td>2015-06-08 02:11:29.683</td>\n",
       "      <td>2015-06-08</td>\n",
       "    </tr>\n",
       "    <tr>\n",
       "      <th>133552</th>\n",
       "      <td>1433729786622</td>\n",
       "      <td>992329</td>\n",
       "      <td>view</td>\n",
       "      <td>46971</td>\n",
       "      <td>NaN</td>\n",
       "      <td>2015-06-08 02:16:26.622</td>\n",
       "      <td>2015-06-08</td>\n",
       "    </tr>\n",
       "    <tr>\n",
       "      <th>145597</th>\n",
       "      <td>1433730019241</td>\n",
       "      <td>992329</td>\n",
       "      <td>view</td>\n",
       "      <td>225942</td>\n",
       "      <td>NaN</td>\n",
       "      <td>2015-06-08 02:20:19.241</td>\n",
       "      <td>2015-06-08</td>\n",
       "    </tr>\n",
       "    <tr>\n",
       "      <th>140216</th>\n",
       "      <td>1433730231553</td>\n",
       "      <td>992329</td>\n",
       "      <td>view</td>\n",
       "      <td>395071</td>\n",
       "      <td>NaN</td>\n",
       "      <td>2015-06-08 02:23:51.553</td>\n",
       "      <td>2015-06-08</td>\n",
       "    </tr>\n",
       "    <tr>\n",
       "      <th>141987</th>\n",
       "      <td>1433730402675</td>\n",
       "      <td>992329</td>\n",
       "      <td>view</td>\n",
       "      <td>377484</td>\n",
       "      <td>NaN</td>\n",
       "      <td>2015-06-08 02:26:42.675</td>\n",
       "      <td>2015-06-08</td>\n",
       "    </tr>\n",
       "    <tr>\n",
       "      <th>206958</th>\n",
       "      <td>1433945313290</td>\n",
       "      <td>992329</td>\n",
       "      <td>view</td>\n",
       "      <td>299003</td>\n",
       "      <td>NaN</td>\n",
       "      <td>2015-06-10 14:08:33.290</td>\n",
       "      <td>2015-06-10</td>\n",
       "    </tr>\n",
       "    <tr>\n",
       "      <th>198995</th>\n",
       "      <td>1433946626515</td>\n",
       "      <td>992329</td>\n",
       "      <td>view</td>\n",
       "      <td>381721</td>\n",
       "      <td>NaN</td>\n",
       "      <td>2015-06-10 14:30:26.515</td>\n",
       "      <td>2015-06-10</td>\n",
       "    </tr>\n",
       "    <tr>\n",
       "      <th>235412</th>\n",
       "      <td>1434035218038</td>\n",
       "      <td>992329</td>\n",
       "      <td>view</td>\n",
       "      <td>457496</td>\n",
       "      <td>NaN</td>\n",
       "      <td>2015-06-11 15:06:58.038</td>\n",
       "      <td>2015-06-11</td>\n",
       "    </tr>\n",
       "    <tr>\n",
       "      <th>244778</th>\n",
       "      <td>1434035349084</td>\n",
       "      <td>992329</td>\n",
       "      <td>view</td>\n",
       "      <td>2711</td>\n",
       "      <td>NaN</td>\n",
       "      <td>2015-06-11 15:09:09.084</td>\n",
       "      <td>2015-06-11</td>\n",
       "    </tr>\n",
       "    <tr>\n",
       "      <th>235797</th>\n",
       "      <td>1434035926844</td>\n",
       "      <td>992329</td>\n",
       "      <td>view</td>\n",
       "      <td>341971</td>\n",
       "      <td>NaN</td>\n",
       "      <td>2015-06-11 15:18:46.844</td>\n",
       "      <td>2015-06-11</td>\n",
       "    </tr>\n",
       "    <tr>\n",
       "      <th>218143</th>\n",
       "      <td>1434231531446</td>\n",
       "      <td>992329</td>\n",
       "      <td>view</td>\n",
       "      <td>46971</td>\n",
       "      <td>NaN</td>\n",
       "      <td>2015-06-13 21:38:51.446</td>\n",
       "      <td>2015-06-13</td>\n",
       "    </tr>\n",
       "    <tr>\n",
       "      <th>441596</th>\n",
       "      <td>1435014240987</td>\n",
       "      <td>992329</td>\n",
       "      <td>view</td>\n",
       "      <td>206970</td>\n",
       "      <td>NaN</td>\n",
       "      <td>2015-06-22 23:04:00.987</td>\n",
       "      <td>2015-06-22</td>\n",
       "    </tr>\n",
       "    <tr>\n",
       "      <th>530937</th>\n",
       "      <td>1435341565477</td>\n",
       "      <td>992329</td>\n",
       "      <td>view</td>\n",
       "      <td>283405</td>\n",
       "      <td>NaN</td>\n",
       "      <td>2015-06-26 17:59:25.477</td>\n",
       "      <td>2015-06-26</td>\n",
       "    </tr>\n",
       "    <tr>\n",
       "      <th>2165774</th>\n",
       "      <td>1436197608867</td>\n",
       "      <td>992329</td>\n",
       "      <td>view</td>\n",
       "      <td>66480</td>\n",
       "      <td>NaN</td>\n",
       "      <td>2015-07-06 15:46:48.867</td>\n",
       "      <td>2015-07-06</td>\n",
       "    </tr>\n",
       "    <tr>\n",
       "      <th>2244592</th>\n",
       "      <td>1436503481324</td>\n",
       "      <td>992329</td>\n",
       "      <td>view</td>\n",
       "      <td>8775</td>\n",
       "      <td>NaN</td>\n",
       "      <td>2015-07-10 04:44:41.324</td>\n",
       "      <td>2015-07-10</td>\n",
       "    </tr>\n",
       "    <tr>\n",
       "      <th>2736260</th>\n",
       "      <td>1438273381735</td>\n",
       "      <td>992329</td>\n",
       "      <td>view</td>\n",
       "      <td>144660</td>\n",
       "      <td>NaN</td>\n",
       "      <td>2015-07-30 16:23:01.735</td>\n",
       "      <td>2015-07-30</td>\n",
       "    </tr>\n",
       "  </tbody>\n",
       "</table>\n",
       "</div>"
      ],
      "text/plain": [
       "             timestamp  visitorid event  itemid  transactionid  \\\n",
       "145189   1433703062882     992329  view   48030            NaN   \n",
       "133651   1433729380709     992329  view  352788            NaN   \n",
       "133782   1433729489683     992329  view  169213            NaN   \n",
       "133552   1433729786622     992329  view   46971            NaN   \n",
       "145597   1433730019241     992329  view  225942            NaN   \n",
       "140216   1433730231553     992329  view  395071            NaN   \n",
       "141987   1433730402675     992329  view  377484            NaN   \n",
       "206958   1433945313290     992329  view  299003            NaN   \n",
       "198995   1433946626515     992329  view  381721            NaN   \n",
       "235412   1434035218038     992329  view  457496            NaN   \n",
       "244778   1434035349084     992329  view    2711            NaN   \n",
       "235797   1434035926844     992329  view  341971            NaN   \n",
       "218143   1434231531446     992329  view   46971            NaN   \n",
       "441596   1435014240987     992329  view  206970            NaN   \n",
       "530937   1435341565477     992329  view  283405            NaN   \n",
       "2165774  1436197608867     992329  view   66480            NaN   \n",
       "2244592  1436503481324     992329  view    8775            NaN   \n",
       "2736260  1438273381735     992329  view  144660            NaN   \n",
       "\n",
       "                       datetime        date  \n",
       "145189  2015-06-07 18:51:02.882  2015-06-07  \n",
       "133651  2015-06-08 02:09:40.709  2015-06-08  \n",
       "133782  2015-06-08 02:11:29.683  2015-06-08  \n",
       "133552  2015-06-08 02:16:26.622  2015-06-08  \n",
       "145597  2015-06-08 02:20:19.241  2015-06-08  \n",
       "140216  2015-06-08 02:23:51.553  2015-06-08  \n",
       "141987  2015-06-08 02:26:42.675  2015-06-08  \n",
       "206958  2015-06-10 14:08:33.290  2015-06-10  \n",
       "198995  2015-06-10 14:30:26.515  2015-06-10  \n",
       "235412  2015-06-11 15:06:58.038  2015-06-11  \n",
       "244778  2015-06-11 15:09:09.084  2015-06-11  \n",
       "235797  2015-06-11 15:18:46.844  2015-06-11  \n",
       "218143  2015-06-13 21:38:51.446  2015-06-13  \n",
       "441596  2015-06-22 23:04:00.987  2015-06-22  \n",
       "530937  2015-06-26 17:59:25.477  2015-06-26  \n",
       "2165774 2015-07-06 15:46:48.867  2015-07-06  \n",
       "2244592 2015-07-10 04:44:41.324  2015-07-10  \n",
       "2736260 2015-07-30 16:23:01.735  2015-07-30  "
      ]
     },
     "execution_count": 38,
     "metadata": {},
     "output_type": "execute_result"
    }
   ],
   "source": [
    "df_recent_user_history = get_last_n_sessions_for_user(user_id, curr_date, lastN)\n",
    "print(\"Number of events in last 10 sessions:\",df_recent_user_history.shape[0])\n",
    "df_recent_user_history"
   ]
  },
  {
   "cell_type": "code",
   "execution_count": 39,
   "id": "655405b4",
   "metadata": {},
   "outputs": [
    {
     "name": "stdout",
     "output_type": "stream",
     "text": [
      "Shape of session containing 10 sessions: (18, 235061)\n"
     ]
    }
   ],
   "source": [
    "X_user_context = tokenizer.transform(np.array(df_recent_user_history['itemid']).reshape(-1,1))\n",
    "print(\"Shape of session containing {} sessions: {}\".format(context_N, X_user_context.shape))"
   ]
  },
  {
   "cell_type": "markdown",
   "id": "ebdf9457",
   "metadata": {},
   "source": [
    "Above method is a way to fetch last N sessions and convert is into numpy input for the model. This can become the user context input for the model"
   ]
  },
  {
   "cell_type": "markdown",
   "id": "5ceb7ee9",
   "metadata": {},
   "source": [
    "#### Next Steps\n",
    "\n",
    "1. This input should be passed to an embedding layer to fetch item embeddings<br>\n",
    "2. The embeddings need to be aggregated (averaging method is used in the YouTube paper) as number of events can be vary user to user<br>\n",
    "3. Other features can then be concatenated with the embeddings layer and passed to a Dense layer\n",
    "\n",
    "Aim for this notebook is achieved. Next steps will be performed in a different notebook"
   ]
  }
 ],
 "metadata": {
  "kernelspec": {
   "display_name": "Python 3 (ipykernel)",
   "language": "python",
   "name": "python3"
  },
  "language_info": {
   "codemirror_mode": {
    "name": "ipython",
    "version": 3
   },
   "file_extension": ".py",
   "mimetype": "text/x-python",
   "name": "python",
   "nbconvert_exporter": "python",
   "pygments_lexer": "ipython3",
   "version": "3.9.1"
  }
 },
 "nbformat": 4,
 "nbformat_minor": 5
}
